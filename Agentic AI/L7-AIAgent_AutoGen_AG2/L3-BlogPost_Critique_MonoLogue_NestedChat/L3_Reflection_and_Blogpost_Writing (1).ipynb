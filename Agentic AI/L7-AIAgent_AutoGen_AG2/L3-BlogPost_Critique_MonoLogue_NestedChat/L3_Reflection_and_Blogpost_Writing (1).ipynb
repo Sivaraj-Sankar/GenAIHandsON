{
 "cells": [
  {
   "cell_type": "markdown",
   "id": "fc3024e2",
   "metadata": {},
   "source": [
    "# Lesson 3: Reflection and Blogpost Writing"
   ]
  },
  {
   "cell_type": "markdown",
   "id": "3b0cc42f",
   "metadata": {},
   "source": [
    "## Setup"
   ]
  },
  {
   "cell_type": "code",
   "execution_count": 1,
   "id": "96d39be0-eaf3-456d-8613-ba21099ed36b",
   "metadata": {
    "height": 29
   },
   "outputs": [],
   "source": [
    "llm_config = {\"model\": \"gpt-3.5-turbo\"}"
   ]
  },
  {
   "cell_type": "markdown",
   "id": "0969e6bb",
   "metadata": {},
   "source": [
    "## The task!"
   ]
  },
  {
   "cell_type": "code",
   "execution_count": 2,
   "id": "e8074032-3690-4de9-ad08-ea8323cb441b",
   "metadata": {
    "height": 114
   },
   "outputs": [],
   "source": [
    "task = '''\n",
    "        Write a concise but engaging blogpost about\n",
    "       DeepLearning.AI. Make sure the blogpost is\n",
    "       within 100 words.\n",
    "       '''\n"
   ]
  },
  {
   "cell_type": "markdown",
   "id": "1987f023",
   "metadata": {},
   "source": [
    "## Create a writer agent"
   ]
  },
  {
   "cell_type": "code",
   "execution_count": 3,
   "id": "fe0f0a47-a9fe-43a0-b7b1-79922e4c4ac8",
   "metadata": {
    "height": 198
   },
   "outputs": [],
   "source": [
    "import autogen\n",
    "\n",
    "writer = autogen.AssistantAgent(\n",
    "    name=\"Writer\",\n",
    "    system_message=\"You are a writer. You write engaging and concise \" \n",
    "        \"blogpost (with title) on given topics. You must polish your \"\n",
    "        \"writing based on the feedback you receive and give a refined \"\n",
    "        \"version. Only return your final work without additional comments.\",\n",
    "    llm_config=llm_config,\n",
    ")"
   ]
  },
  {
   "cell_type": "code",
   "execution_count": 4,
   "id": "7c7b4d8d-40f7-4a05-8958-25d20054de3a",
   "metadata": {
    "height": 45
   },
   "outputs": [],
   "source": [
    "reply = writer.generate_reply(messages=[{\"content\": task, \"role\": \"user\"}])"
   ]
  },
  {
   "cell_type": "code",
   "execution_count": 5,
   "id": "c501c97d-e338-4f36-a384-6ec45983cf77",
   "metadata": {
    "height": 29
   },
   "outputs": [
    {
     "name": "stdout",
     "output_type": "stream",
     "text": [
      "Title: Unleashing the Power of Deep Learning with DeepLearning.AI\n",
      "\n",
      "Dive into the world of DeepLearning.AI and unlock the potential of deep learning in a seamless and engaging manner. With courses taught by industry experts like Andrew Ng, you can master the ins and outs of deep learning, neural networks, and beyond. Whether you're a beginner or an experienced professional, there's something for everyone. Gain cutting-edge skills, work on real-world projects, and propel your career to new heights. Join the DeepLearning.AI community today and revolutionize the way you perceive artificial intelligence. Elevate your knowledge, transform industries, and shape the future with DeepLearning.AI.\n"
     ]
    }
   ],
   "source": [
    "print(reply)"
   ]
  },
  {
   "cell_type": "markdown",
   "id": "49658114",
   "metadata": {},
   "source": [
    "## Adding reflection \n",
    "\n",
    "Create a critic agent to reflect on the work of the writer agent."
   ]
  },
  {
   "cell_type": "code",
   "execution_count": 6,
   "id": "c7fcd1c7-51ec-4915-8e97-bac03565c4c7",
   "metadata": {
    "height": 164
   },
   "outputs": [],
   "source": [
    "critic = autogen.AssistantAgent(\n",
    "    name=\"Critic\",\n",
    "    is_termination_msg=lambda x: x.get(\"content\", \"\").find(\"TERMINATE\") >= 0,\n",
    "    llm_config=llm_config,\n",
    "    system_message=\"You are a critic. You review the work of \"\n",
    "                \"the writer and provide constructive \"\n",
    "                \"feedback to help improve the quality of the content.\",\n",
    ")"
   ]
  },
  {
   "cell_type": "code",
   "execution_count": 7,
   "id": "899d5fdb-6081-470b-b287-8cf8b8142d0d",
   "metadata": {
    "height": 114
   },
   "outputs": [
    {
     "name": "stdout",
     "output_type": "stream",
     "text": [
      "\u001b[33mCritic\u001b[0m (to Writer):\n",
      "\n",
      "\n",
      "        Write a concise but engaging blogpost about\n",
      "       DeepLearning.AI. Make sure the blogpost is\n",
      "       within 100 words.\n",
      "       \n",
      "\n",
      "--------------------------------------------------------------------------------\n",
      "\u001b[33mWriter\u001b[0m (to Critic):\n",
      "\n",
      "Title: Unleashing the Power of Deep Learning with DeepLearning.AI\n",
      "\n",
      "Dive into the world of DeepLearning.AI and unlock the potential of deep learning in a seamless and engaging manner. With courses taught by industry experts like Andrew Ng, you can master the ins and outs of deep learning, neural networks, and beyond. Whether you're a beginner or an experienced professional, there's something for everyone. Gain cutting-edge skills, work on real-world projects, and propel your career to new heights. Join the DeepLearning.AI community today and revolutionize the way you perceive artificial intelligence. Elevate your knowledge, transform industries, and shape the future with DeepLearning.AI.\n",
      "\n",
      "--------------------------------------------------------------------------------\n",
      "\u001b[33mCritic\u001b[0m (to Writer):\n",
      "\n",
      "This blog post effectively conveys the value of DeepLearning.AI and the opportunities it offers for individuals to learn and excel in the field of deep learning. The title is catchy and sets the tone for the content. The writing is engaging and informative, highlighting key benefits and emphasizing the expertise of instructors like Andrew Ng. To enhance the post, consider including specific examples of the types of projects students can work on or success stories of individuals who have benefitted from the courses. Additionally, providing more specific details on the course offerings and how they cater to different skill levels could further entice readers to explore DeepLearning.AI.\n",
      "\n",
      "--------------------------------------------------------------------------------\n",
      "\u001b[33mWriter\u001b[0m (to Critic):\n",
      "\n",
      "Title: Master Deep Learning with DeepLearning.AI: A Path to Success\n",
      "\n",
      "Embark on a transformative journey with DeepLearning.AI and discover the boundless opportunities in deep learning. Led by luminaries such as Andrew Ng, the platform offers a gateway to unparalleled learning experiences for all skill levels. Through hands-on projects and expert guidance, you can immerse yourself in cutting-edge concepts and real-world applications. Join a vibrant community of learners, fuel your curiosity, and witness your skills soar to new heights. Explore a myriad of courses tailored to unleash your full potential and shape the future of artificial intelligence. Dive into DeepLearning.AI today and craft your success story in the world of deep learning.\n",
      "\n",
      "--------------------------------------------------------------------------------\n"
     ]
    }
   ],
   "source": [
    "res = critic.initiate_chat(\n",
    "    recipient=writer,\n",
    "    message=task,\n",
    "    max_turns=2,\n",
    "    summary_method=\"last_msg\"\n",
    ")"
   ]
  },
  {
   "cell_type": "markdown",
   "id": "e7b76449",
   "metadata": {},
   "source": [
    "## Nested chat"
   ]
  },
  {
   "cell_type": "code",
   "execution_count": 8,
   "id": "401ecf92-63e9-40ff-aeed-1c404352e4ab",
   "metadata": {
    "height": 215
   },
   "outputs": [],
   "source": [
    "SEO_reviewer = autogen.AssistantAgent(\n",
    "    name=\"SEO Reviewer\",\n",
    "    llm_config=llm_config,\n",
    "    system_message=\"You are an SEO reviewer, known for \"\n",
    "        \"your ability to optimize content for search engines, \"\n",
    "        \"ensuring that it ranks well and attracts organic traffic. \" \n",
    "        \"Make sure your suggestion is concise (within 3 bullet points), \"\n",
    "        \"concrete and to the point. \"\n",
    "        \"Begin the review by stating your role.\",\n",
    ")\n"
   ]
  },
  {
   "cell_type": "code",
   "execution_count": 9,
   "id": "f85acb81-7ab9-4c84-b8bb-6fbae3dce848",
   "metadata": {
    "height": 198
   },
   "outputs": [],
   "source": [
    "legal_reviewer = autogen.AssistantAgent(\n",
    "    name=\"Legal Reviewer\",\n",
    "    llm_config=llm_config,\n",
    "    system_message=\"You are a legal reviewer, known for \"\n",
    "        \"your ability to ensure that content is legally compliant \"\n",
    "        \"and free from any potential legal issues. \"\n",
    "        \"Make sure your suggestion is concise (within 3 bullet points), \"\n",
    "        \"concrete and to the point. \"\n",
    "        \"Begin the review by stating your role.\",\n",
    ")"
   ]
  },
  {
   "cell_type": "code",
   "execution_count": 10,
   "id": "d46a177a-8088-4956-8d2b-3e916b8ca5e9",
   "metadata": {
    "height": 198
   },
   "outputs": [],
   "source": [
    "ethics_reviewer = autogen.AssistantAgent(\n",
    "    name=\"Ethics Reviewer\",\n",
    "    llm_config=llm_config,\n",
    "    system_message=\"You are an ethics reviewer, known for \"\n",
    "        \"your ability to ensure that content is ethically sound \"\n",
    "        \"and free from any potential ethical issues. \" \n",
    "        \"Make sure your suggestion is concise (within 3 bullet points), \"\n",
    "        \"concrete and to the point. \"\n",
    "        \"Begin the review by stating your role. \",\n",
    ")"
   ]
  },
  {
   "cell_type": "code",
   "execution_count": 11,
   "id": "a7b2ad6f-8ba6-436a-9459-14ffbe8a32d3",
   "metadata": {
    "height": 130
   },
   "outputs": [],
   "source": [
    "meta_reviewer = autogen.AssistantAgent(\n",
    "    name=\"Meta Reviewer\",\n",
    "    llm_config=llm_config,\n",
    "    system_message=\"You are a meta reviewer, you aggragate and review \"\n",
    "    \"the work of other reviewers and give a final suggestion on the content.\",\n",
    ")"
   ]
  },
  {
   "cell_type": "markdown",
   "id": "913beca1",
   "metadata": {},
   "source": [
    "## Orchestrate the nested chats to solve the task"
   ]
  },
  {
   "cell_type": "code",
   "execution_count": 12,
   "id": "a11a70c7-19ca-4e5a-ad3d-f2b481fb5915",
   "metadata": {
    "height": 555
   },
   "outputs": [],
   "source": [
    "def reflection_message(recipient, messages, sender, config):\n",
    "    return f'''Review the following content. \n",
    "            \\n\\n {recipient.chat_messages_for_summary(sender)[-1]['content']}'''\n",
    "\n",
    "review_chats = [\n",
    "    {\n",
    "     \"recipient\": SEO_reviewer, \n",
    "     \"message\": reflection_message, \n",
    "     \"summary_method\": \"reflection_with_llm\",\n",
    "     \"summary_args\": {\"summary_prompt\" : \n",
    "        \"Return review into as JSON object only:\"\n",
    "        \"{'Reviewer': '', 'Review': ''}. Here Reviewer should be your role\",},\n",
    "     \"max_turns\": 1},\n",
    "    {\n",
    "    \"recipient\": legal_reviewer, \"message\": reflection_message, \n",
    "     \"summary_method\": \"reflection_with_llm\",\n",
    "     \"summary_args\": {\"summary_prompt\" : \n",
    "        \"Return review into as JSON object only:\"\n",
    "        \"{'Reviewer': '', 'Review': ''}.\",},\n",
    "     \"max_turns\": 1},\n",
    "    {\"recipient\": ethics_reviewer, \"message\": reflection_message, \n",
    "     \"summary_method\": \"reflection_with_llm\",\n",
    "     \"summary_args\": {\"summary_prompt\" : \n",
    "        \"Return review into as JSON object only:\"\n",
    "        \"{'reviewer': '', 'review': ''}\",},\n",
    "     \"max_turns\": 1},\n",
    "     {\"recipient\": meta_reviewer, \n",
    "      \"message\": \"Aggregrate feedback from all reviewers and give final suggestions on the writing.\", \n",
    "     \"max_turns\": 1},\n",
    "]\n"
   ]
  },
  {
   "cell_type": "code",
   "execution_count": 13,
   "id": "b3a40b66-5061-460d-ad9d-c0dbcfbba2e9",
   "metadata": {
    "height": 80
   },
   "outputs": [],
   "source": [
    "critic.register_nested_chats(\n",
    "    review_chats,\n",
    "    trigger=writer,\n",
    ")"
   ]
  },
  {
   "cell_type": "markdown",
   "id": "43b8797d",
   "metadata": {},
   "source": [
    "**Note**: You might get a slightly different response than what's shown in the video. Feel free to try different task."
   ]
  },
  {
   "cell_type": "code",
   "execution_count": 14,
   "id": "3b8dcac3-1e72-43b7-9d5a-1be740f6efd5",
   "metadata": {
    "height": 114
   },
   "outputs": [
    {
     "name": "stdout",
     "output_type": "stream",
     "text": [
      "\u001b[33mCritic\u001b[0m (to Writer):\n",
      "\n",
      "\n",
      "        Write a concise but engaging blogpost about\n",
      "       DeepLearning.AI. Make sure the blogpost is\n",
      "       within 100 words.\n",
      "       \n",
      "\n",
      "--------------------------------------------------------------------------------\n",
      "\u001b[33mWriter\u001b[0m (to Critic):\n",
      "\n",
      "Title: Unleashing the Power of Deep Learning with DeepLearning.AI\n",
      "\n",
      "Dive into the world of DeepLearning.AI and unlock the potential of deep learning in a seamless and engaging manner. With courses taught by industry experts like Andrew Ng, you can master the ins and outs of deep learning, neural networks, and beyond. Whether you're a beginner or an experienced professional, there's something for everyone. Gain cutting-edge skills, work on real-world projects, and propel your career to new heights. Join the DeepLearning.AI community today and revolutionize the way you perceive artificial intelligence. Elevate your knowledge, transform industries, and shape the future with DeepLearning.AI.\n",
      "\n",
      "--------------------------------------------------------------------------------\n",
      "\u001b[34m\n",
      "********************************************************************************\u001b[0m\n",
      "\u001b[34mStarting a new chat....\u001b[0m\n",
      "\u001b[34m\n",
      "********************************************************************************\u001b[0m\n",
      "\u001b[33mCritic\u001b[0m (to SEO Reviewer):\n",
      "\n",
      "Review the following content. \n",
      "            \n",
      "\n",
      " Title: Unleashing the Power of Deep Learning with DeepLearning.AI\n",
      "\n",
      "Dive into the world of DeepLearning.AI and unlock the potential of deep learning in a seamless and engaging manner. With courses taught by industry experts like Andrew Ng, you can master the ins and outs of deep learning, neural networks, and beyond. Whether you're a beginner or an experienced professional, there's something for everyone. Gain cutting-edge skills, work on real-world projects, and propel your career to new heights. Join the DeepLearning.AI community today and revolutionize the way you perceive artificial intelligence. Elevate your knowledge, transform industries, and shape the future with DeepLearning.AI.\n",
      "\n",
      "--------------------------------------------------------------------------------\n",
      "\u001b[33mSEO Reviewer\u001b[0m (to Critic):\n",
      "\n",
      "As an SEO reviewer, here are my suggestions for optimizing the content:\n",
      "\n",
      "- Target Long-Tail Keywords: Incorporate specific long-tail keywords related to deep learning courses, online learning, and Andrew Ng to improve search visibility.\n",
      "- Include Internal Links: Link to relevant pages within the DeepLearning.AI website to enhance site structure and improve SEO rankings.\n",
      "- Optimize Meta Tags: Craft compelling meta titles and descriptions with targeted keywords to increase click-through rates from search engine results.\n",
      "\n",
      "--------------------------------------------------------------------------------\n",
      "\u001b[34m\n",
      "********************************************************************************\u001b[0m\n",
      "\u001b[34mStarting a new chat....\u001b[0m\n",
      "\u001b[34m\n",
      "********************************************************************************\u001b[0m\n",
      "\u001b[33mCritic\u001b[0m (to Legal Reviewer):\n",
      "\n",
      "Review the following content. \n",
      "            \n",
      "\n",
      " Title: Unleashing the Power of Deep Learning with DeepLearning.AI\n",
      "\n",
      "Dive into the world of DeepLearning.AI and unlock the potential of deep learning in a seamless and engaging manner. With courses taught by industry experts like Andrew Ng, you can master the ins and outs of deep learning, neural networks, and beyond. Whether you're a beginner or an experienced professional, there's something for everyone. Gain cutting-edge skills, work on real-world projects, and propel your career to new heights. Join the DeepLearning.AI community today and revolutionize the way you perceive artificial intelligence. Elevate your knowledge, transform industries, and shape the future with DeepLearning.AI.\n",
      "Context: \n",
      "{'Reviewer': 'SEO Reviewer', 'Review': 'Suggestions for optimizing the content include targeting long-tail keywords, including internal links, and optimizing meta tags.'}\n",
      "\n",
      "--------------------------------------------------------------------------------\n",
      "\u001b[33mLegal Reviewer\u001b[0m (to Critic):\n",
      "\n",
      "As a Legal Reviewer:\n",
      "\n",
      "- Ensure compliance with advertisement regulations: Make sure that any statements regarding the DeepLearning.AI courses, such as \"master the ins and outs of deep learning\" and \"propel your career to new heights,\" do not constitute deceptive advertising or false representations.\n",
      "  \n",
      "- Check for accuracy and truthfulness: Verify that any claims made about the courses being taught by industry experts like Andrew Ng are factually accurate to prevent potential misrepresentation accusations.\n",
      "  \n",
      "- Avoid misleading statements: Ensure that the content does not make exaggerated claims about the benefits of joining DeepLearning.AI, such as \"transform industries\" or \"revolutionize the way you perceive AI,\" which could be considered misleading.\n",
      "\n",
      "--------------------------------------------------------------------------------\n",
      "\u001b[34m\n",
      "********************************************************************************\u001b[0m\n",
      "\u001b[34mStarting a new chat....\u001b[0m\n",
      "\u001b[34m\n",
      "********************************************************************************\u001b[0m\n",
      "\u001b[33mCritic\u001b[0m (to Ethics Reviewer):\n",
      "\n",
      "Review the following content. \n",
      "            \n",
      "\n",
      " Title: Unleashing the Power of Deep Learning with DeepLearning.AI\n",
      "\n",
      "Dive into the world of DeepLearning.AI and unlock the potential of deep learning in a seamless and engaging manner. With courses taught by industry experts like Andrew Ng, you can master the ins and outs of deep learning, neural networks, and beyond. Whether you're a beginner or an experienced professional, there's something for everyone. Gain cutting-edge skills, work on real-world projects, and propel your career to new heights. Join the DeepLearning.AI community today and revolutionize the way you perceive artificial intelligence. Elevate your knowledge, transform industries, and shape the future with DeepLearning.AI.\n",
      "Context: \n",
      "{'Reviewer': 'SEO Reviewer', 'Review': 'Suggestions for optimizing the content include targeting long-tail keywords, including internal links, and optimizing meta tags.'}\n",
      "{'Reviewer': 'Legal Reviewer', 'Review': 'Ensure compliance with advertisement regulations, check for accuracy and truthfulness in claims, avoid misleading statements.'}\n",
      "\n",
      "--------------------------------------------------------------------------------\n",
      "\u001b[33mEthics Reviewer\u001b[0m (to Critic):\n",
      "\n",
      "As an ethics reviewer:\n",
      "\n",
      "1. Disclose any potential conflicts of interest, such as financial ties between the content creator and DeepLearning.AI, to maintain transparency and trust.\n",
      "   \n",
      "2. Avoid making exaggerated claims about the benefits of DeepLearning.AI without substantial evidence to prevent misleading the audience.\n",
      "   \n",
      "3. Respect user privacy by providing clear information on data collection practices and ensuring confidentiality of any personal information shared within the platform.\n",
      "\n",
      "--------------------------------------------------------------------------------\n",
      "\u001b[34m\n",
      "********************************************************************************\u001b[0m\n",
      "\u001b[34mStarting a new chat....\u001b[0m\n",
      "\u001b[34m\n",
      "********************************************************************************\u001b[0m\n",
      "\u001b[33mCritic\u001b[0m (to Meta Reviewer):\n",
      "\n",
      "Aggregrate feedback from all reviewers and give final suggestions on the writing.\n",
      "Context: \n",
      "{'Reviewer': 'SEO Reviewer', 'Review': 'Suggestions for optimizing the content include targeting long-tail keywords, including internal links, and optimizing meta tags.'}\n",
      "{'Reviewer': 'Legal Reviewer', 'Review': 'Ensure compliance with advertisement regulations, check for accuracy and truthfulness in claims, avoid misleading statements.'}\n",
      "{\"reviewer\": \"\", \"review\": \"\"}\n",
      "\n",
      "--------------------------------------------------------------------------------\n",
      "\u001b[33mMeta Reviewer\u001b[0m (to Critic):\n",
      "\n",
      "Aggregated Feedback:\n",
      "1. SEO Reviewer suggests optimizing content by targeting long-tail keywords, including internal links, and optimizing meta tags.\n",
      "2. Legal Reviewer emphasizes ensuring compliance with advertisement regulations, checking for accuracy and truthfulness in claims, and avoiding misleading statements.\n",
      "\n",
      "Final Suggestions:\n",
      "1. Incorporate long-tail keywords and internal links to improve SEO.\n",
      "2. Pay close attention to meta tags for better search engine visibility.\n",
      "3. Ensure all claims are accurate and comply with advertisement regulations.\n",
      "4. Avoid any misleading statements to maintain transparency and trust with the audience. \n",
      "\n",
      "Overall, it is essential to strike a balance between optimizing content for SEO purposes and ensuring legal compliance and accuracy in claims. By addressing both aspects effectively, the content can effectively reach its target audience while maintaining credibility.\n"
     ]
    },
    {
     "name": "stdout",
     "output_type": "stream",
     "text": [
      "\n",
      "--------------------------------------------------------------------------------\n",
      "\u001b[33mCritic\u001b[0m (to Writer):\n",
      "\n",
      "Aggregated Feedback:\n",
      "1. SEO Reviewer suggests optimizing content by targeting long-tail keywords, including internal links, and optimizing meta tags.\n",
      "2. Legal Reviewer emphasizes ensuring compliance with advertisement regulations, checking for accuracy and truthfulness in claims, and avoiding misleading statements.\n",
      "\n",
      "Final Suggestions:\n",
      "1. Incorporate long-tail keywords and internal links to improve SEO.\n",
      "2. Pay close attention to meta tags for better search engine visibility.\n",
      "3. Ensure all claims are accurate and comply with advertisement regulations.\n",
      "4. Avoid any misleading statements to maintain transparency and trust with the audience. \n",
      "\n",
      "Overall, it is essential to strike a balance between optimizing content for SEO purposes and ensuring legal compliance and accuracy in claims. By addressing both aspects effectively, the content can effectively reach its target audience while maintaining credibility.\n",
      "\n",
      "--------------------------------------------------------------------------------\n",
      "\u001b[33mWriter\u001b[0m (to Critic):\n",
      "\n",
      "Title: Revolutionize AI Learning with DeepLearning.AI\n",
      "\n",
      "Unlock the world of deep learning with DeepLearning.AI, led by industry thought leader Andrew Ng. From neural networks to real-world projects, these courses cater to beginners and experts alike. Elevate your skills, propel your career, and shape the future of AI through practical learning. Join the DeepLearning.AI community today to stay at the forefront of artificial intelligence advancement.\n",
      "\n",
      "--------------------------------------------------------------------------------\n"
     ]
    }
   ],
   "source": [
    "res = critic.initiate_chat(\n",
    "    recipient=writer,\n",
    "    message=task,\n",
    "    max_turns=2,\n",
    "    summary_method=\"last_msg\"\n",
    ")"
   ]
  },
  {
   "cell_type": "markdown",
   "id": "c5c833b0",
   "metadata": {},
   "source": [
    "## Get the summary"
   ]
  },
  {
   "cell_type": "code",
   "execution_count": 15,
   "id": "68ef82ed-f102-4964-b7be-60e2f258a39b",
   "metadata": {
    "height": 29
   },
   "outputs": [
    {
     "name": "stdout",
     "output_type": "stream",
     "text": [
      "Title: Revolutionize AI Learning with DeepLearning.AI\n",
      "\n",
      "Unlock the world of deep learning with DeepLearning.AI, led by industry thought leader Andrew Ng. From neural networks to real-world projects, these courses cater to beginners and experts alike. Elevate your skills, propel your career, and shape the future of AI through practical learning. Join the DeepLearning.AI community today to stay at the forefront of artificial intelligence advancement.\n"
     ]
    }
   ],
   "source": [
    "print(res.summary)"
   ]
  }
 ],
 "metadata": {
  "kernelspec": {
   "display_name": "Python 3 (ipykernel)",
   "language": "python",
   "name": "python3"
  },
  "language_info": {
   "codemirror_mode": {
    "name": "ipython",
    "version": 3
   },
   "file_extension": ".py",
   "mimetype": "text/x-python",
   "name": "python",
   "nbconvert_exporter": "python",
   "pygments_lexer": "ipython3",
   "version": "3.11.9"
  }
 },
 "nbformat": 4,
 "nbformat_minor": 5
}
