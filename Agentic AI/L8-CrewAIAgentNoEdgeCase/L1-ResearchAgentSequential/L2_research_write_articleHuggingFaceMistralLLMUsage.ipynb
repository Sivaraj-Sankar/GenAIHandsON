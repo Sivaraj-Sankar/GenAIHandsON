{
 "cells": [
  {
   "cell_type": "markdown",
   "metadata": {},
   "source": [
    "You can download the `requirements.txt` for this course from the workspace of this lab. `File --> Open...`"
   ]
  },
  {
   "cell_type": "markdown",
   "metadata": {},
   "source": [
    "# L2: Create Agents to Research and Write an Article\n",
    "\n",
    "In this lesson, you will be introduced to the foundational concepts of multi-agent systems and get an overview of the crewAI framework."
   ]
  },
  {
   "cell_type": "markdown",
   "metadata": {},
   "source": [
    "The libraries are already installed in the classroom. If you're running this notebook on your own machine, you can install the following:\n",
    "```Python\n",
    "!pip install crewai==0.28.8 crewai_tools==0.1.6 langchain_community==0.0.29\n",
    "```"
   ]
  },
  {
   "cell_type": "code",
   "execution_count": 1,
   "metadata": {
    "height": 64
   },
   "outputs": [],
   "source": [
    "# Warning control\n",
    "import warnings\n",
    "warnings.filterwarnings('ignore')"
   ]
  },
  {
   "cell_type": "markdown",
   "metadata": {},
   "source": [
    "- Import from the crewAI libray."
   ]
  },
  {
   "cell_type": "code",
   "execution_count": 2,
   "metadata": {
    "height": 30
   },
   "outputs": [],
   "source": [
    "from crewai import Agent, Task, Crew"
   ]
  },
  {
   "cell_type": "markdown",
   "metadata": {},
   "source": [
    "- As a LLM for your agents, you'll be using OpenAI's `gpt-3.5-turbo`.\n",
    "\n",
    "**Optional Note:** crewAI also allow other popular models to be used as a LLM for your Agents. You can see some of the examples at the [bottom of the notebook](#1)."
   ]
  },
  {
   "cell_type": "code",
   "execution_count": 3,
   "metadata": {
    "height": 113
   },
   "outputs": [],
   "source": [
    "import os\n",
    "from utils import get_openai_api_key\n",
    "\n",
    "openai_api_key = get_openai_api_key()\n",
    "os.environ[\"OPENAI_MODEL_NAME\"] = 'gpt-3.5-turbo'"
   ]
  },
  {
   "cell_type": "markdown",
   "metadata": {},
   "source": [
    "## Creating Agents\n",
    "\n",
    "- Define your Agents, and provide them a `role`, `goal` and `backstory`.\n",
    "- It has been seen that LLMs perform better when they are role playing."
   ]
  },
  {
   "cell_type": "markdown",
   "metadata": {},
   "source": [
    "### Agent: Planner\n",
    "\n",
    "**Note**: The benefit of using _multiple strings_ :\n",
    "```Python\n",
    "varname = \"line 1 of text\"\n",
    "          \"line 2 of text\"\n",
    "```\n",
    "\n",
    "versus the _triple quote docstring_:\n",
    "```Python\n",
    "varname = \"\"\"line 1 of text\n",
    "             line 2 of text\n",
    "          \"\"\"\n",
    "```\n",
    "is that it can avoid adding those whitespaces and newline characters, making it better formatted to be passed to the LLM."
   ]
  },
  {
   "cell_type": "code",
   "execution_count": 4,
   "metadata": {
    "height": 249
   },
   "outputs": [],
   "source": [
    "planner = Agent(\n",
    "    role=\"Content Planner\",\n",
    "    goal=\"Plan engaging and factually accurate content on {topic}\",\n",
    "    backstory=\"You're working on planning a blog article \"\n",
    "              \"about the topic: {topic}.\"\n",
    "              \"You collect information that helps the \"\n",
    "              \"audience learn something \"\n",
    "              \"and make informed decisions. \"\n",
    "              \"Your work is the basis for \"\n",
    "              \"the Content Writer to write an article on this topic.\",\n",
    "    allow_delegation=False,\n",
    "\tverbose=True\n",
    ")"
   ]
  },
  {
   "cell_type": "markdown",
   "metadata": {},
   "source": [
    "### Agent: Writer"
   ]
  },
  {
   "cell_type": "code",
   "execution_count": 5,
   "metadata": {
    "height": 385
   },
   "outputs": [],
   "source": [
    "writer = Agent(\n",
    "    role=\"Content Writer\",\n",
    "    goal=\"Write insightful and factually accurate \"\n",
    "         \"opinion piece about the topic: {topic}\",\n",
    "    backstory=\"You're working on a writing \"\n",
    "              \"a new opinion piece about the topic: {topic}. \"\n",
    "              \"You base your writing on the work of \"\n",
    "              \"the Content Planner, who provides an outline \"\n",
    "              \"and relevant context about the topic. \"\n",
    "              \"You follow the main objectives and \"\n",
    "              \"direction of the outline, \"\n",
    "              \"as provide by the Content Planner. \"\n",
    "              \"You also provide objective and impartial insights \"\n",
    "              \"and back them up with information \"\n",
    "              \"provide by the Content Planner. \"\n",
    "              \"You acknowledge in your opinion piece \"\n",
    "              \"when your statements are opinions \"\n",
    "              \"as opposed to objective statements.\",\n",
    "    allow_delegation=False,\n",
    "    verbose=True\n",
    ")"
   ]
  },
  {
   "cell_type": "markdown",
   "metadata": {},
   "source": [
    "### Agent: Editor"
   ]
  },
  {
   "cell_type": "code",
   "execution_count": 6,
   "metadata": {
    "height": 283
   },
   "outputs": [],
   "source": [
    "editor = Agent(\n",
    "    role=\"Editor\",\n",
    "    goal=\"Edit a given blog post to align with \"\n",
    "         \"the writing style of the organization. \",\n",
    "    backstory=\"You are an editor who receives a blog post \"\n",
    "              \"from the Content Writer. \"\n",
    "              \"Your goal is to review the blog post \"\n",
    "              \"to ensure that it follows journalistic best practices,\"\n",
    "              \"provides balanced viewpoints \"\n",
    "              \"when providing opinions or assertions, \"\n",
    "              \"and also avoids major controversial topics \"\n",
    "              \"or opinions when possible.\",\n",
    "    allow_delegation=False,\n",
    "    verbose=True\n",
    ")"
   ]
  },
  {
   "cell_type": "markdown",
   "metadata": {},
   "source": [
    "## Creating Tasks\n",
    "\n",
    "- Define your Tasks, and provide them a `description`, `expected_output` and `agent`."
   ]
  },
  {
   "cell_type": "markdown",
   "metadata": {},
   "source": [
    "### Task: Plan"
   ]
  },
  {
   "cell_type": "code",
   "execution_count": 7,
   "metadata": {
    "height": 283
   },
   "outputs": [],
   "source": [
    "plan = Task(\n",
    "    description=(\n",
    "        \"1. Prioritize the latest trends, key players, \"\n",
    "            \"and noteworthy news on {topic}.\\n\"\n",
    "        \"2. Identify the target audience, considering \"\n",
    "            \"their interests and pain points.\\n\"\n",
    "        \"3. Develop a detailed content outline including \"\n",
    "            \"an introduction, key points, and a call to action.\\n\"\n",
    "        \"4. Include SEO keywords and relevant data or sources.\"\n",
    "    ),\n",
    "    expected_output=\"A comprehensive content plan document \"\n",
    "        \"with an outline, audience analysis, \"\n",
    "        \"SEO keywords, and resources.\",\n",
    "    agent=planner,\n",
    ")"
   ]
  },
  {
   "cell_type": "markdown",
   "metadata": {},
   "source": [
    "### Task: Write"
   ]
  },
  {
   "cell_type": "code",
   "execution_count": 8,
   "metadata": {
    "height": 334
   },
   "outputs": [],
   "source": [
    "write = Task(\n",
    "    description=(\n",
    "        \"1. Use the content plan to craft a compelling \"\n",
    "            \"blog post on {topic}.\\n\"\n",
    "        \"2. Incorporate SEO keywords naturally.\\n\"\n",
    "\t\t\"3. Sections/Subtitles are properly named \"\n",
    "            \"in an engaging manner.\\n\"\n",
    "        \"4. Ensure the post is structured with an \"\n",
    "            \"engaging introduction, insightful body, \"\n",
    "            \"and a summarizing conclusion.\\n\"\n",
    "        \"5. Proofread for grammatical errors and \"\n",
    "            \"alignment with the brand's voice.\\n\"\n",
    "    ),\n",
    "    expected_output=\"A well-written blog post \"\n",
    "        \"in markdown format, ready for publication, \"\n",
    "        \"each section should have 2 or 3 paragraphs.\",\n",
    "    agent=writer,\n",
    ")"
   ]
  },
  {
   "cell_type": "markdown",
   "metadata": {},
   "source": [
    "### Task: Edit"
   ]
  },
  {
   "cell_type": "code",
   "execution_count": 9,
   "metadata": {
    "height": 181
   },
   "outputs": [],
   "source": [
    "edit = Task(\n",
    "    description=(\"Proofread the given blog post for \"\n",
    "                 \"grammatical errors and \"\n",
    "                 \"alignment with the brand's voice.\"),\n",
    "    expected_output=\"A well-written blog post in markdown format, \"\n",
    "                    \"ready for publication, \"\n",
    "                    \"each section should have 2 or 3 paragraphs.\",\n",
    "    agent=editor\n",
    ")"
   ]
  },
  {
   "cell_type": "markdown",
   "metadata": {},
   "source": [
    "## Creating the Crew\n",
    "\n",
    "- Create your crew of Agents\n",
    "- Pass the tasks to be performed by those agents.\n",
    "    - **Note**: *For this simple example*, the tasks will be performed sequentially (i.e they are dependent on each other), so the _order_ of the task in the list _matters_.\n",
    "- `verbose=2` allows you to see all the logs of the execution. "
   ]
  },
  {
   "cell_type": "code",
   "execution_count": 10,
   "metadata": {
    "height": 98
   },
   "outputs": [],
   "source": [
    "crew = Crew(\n",
    "    agents=[planner, writer, editor],\n",
    "    tasks=[plan, write, edit],\n",
    "    verbose=2\n",
    ")"
   ]
  },
  {
   "cell_type": "markdown",
   "metadata": {},
   "source": [
    "## Running the Crew"
   ]
  },
  {
   "cell_type": "markdown",
   "metadata": {},
   "source": [
    "**Note**: LLMs can provide different outputs for they same input, so what you get might be different than what you see in the video."
   ]
  },
  {
   "cell_type": "code",
   "execution_count": 11,
   "metadata": {
    "height": 45
   },
   "outputs": [
    {
     "name": "stdout",
     "output_type": "stream",
     "text": [
      "\u001b[1m\u001b[95m [DEBUG]: == Working Agent: Content Planner\u001b[00m\n",
      "\u001b[1m\u001b[95m [INFO]: == Starting Task: 1. Prioritize the latest trends, key players, and noteworthy news on Artificial Intelligence.\n",
      "2. Identify the target audience, considering their interests and pain points.\n",
      "3. Develop a detailed content outline including an introduction, key points, and a call to action.\n",
      "4. Include SEO keywords and relevant data or sources.\u001b[00m\n",
      "\n",
      "\n",
      "\u001b[1m> Entering new CrewAgentExecutor chain...\u001b[0m\n",
      "\u001b[32;1m\u001b[1;3mI now can give a great answer\n",
      "\n",
      "Final Answer: \n",
      "\n",
      "Content Plan: \n",
      "\n",
      "Title: Unveiling the Latest Trends and Key Players in Artificial Intelligence\n",
      "\n",
      "Introduction:\n",
      "- Brief overview of the growing importance of Artificial Intelligence in various industries\n",
      "- Mention of the purpose of the article to highlight the latest trends and key players in the field\n",
      "\n",
      "Key Points:\n",
      "1. Latest Trends in Artificial Intelligence:\n",
      "- Advancements in machine learning algorithms\n",
      "- Rise of explainable AI\n",
      "- Increased focus on ethical AI practices\n",
      "- Integration of AI in healthcare, finance, and retail sectors\n",
      "\n",
      "2. Key Players in Artificial Intelligence:\n",
      "- Google DeepMind\n",
      "- IBM Watson\n",
      "- Microsoft Azure AI\n",
      "- OpenAI\n",
      "- NVIDIA\n",
      "\n",
      "3. Noteworthy News in Artificial Intelligence:\n",
      "- Recent breakthroughs in natural language processing\n",
      "- Impact of AI on job automation and workforce transformation\n",
      "- Ethical concerns surrounding AI technology\n",
      "\n",
      "Audience Analysis:\n",
      "Target Audience: \n",
      "- Business professionals looking to implement AI solutions\n",
      "- Tech enthusiasts interested in AI advancements\n",
      "- Students studying artificial intelligence\n",
      "\n",
      "Interests:\n",
      "- Staying updated on the latest trends and developments in AI\n",
      "- Understanding the key players shaping the AI landscape\n",
      "- Exploring the potential applications of AI in different industries\n",
      "\n",
      "Pain Points:\n",
      "- Difficulty in keeping up with the rapidly evolving AI landscape\n",
      "- Uncertainty about the ethical implications of AI technology\n",
      "- Confusion regarding the best AI solutions for specific business needs\n",
      "\n",
      "SEO Keywords:\n",
      "- Artificial Intelligence trends\n",
      "- Top AI companies\n",
      "- AI news updates\n",
      "- Machine learning advancements\n",
      "- Ethical AI practices\n",
      "\n",
      "Resources:\n",
      "1. \"The State of AI in 2021\" report by PwC\n",
      "2. Forbes article on \"Top Artificial Intelligence Companies to Watch\"\n",
      "3. Harvard Business Review study on \"Ethical Considerations in AI Development\"\u001b[0m\n",
      "\n",
      "\u001b[1m> Finished chain.\u001b[0m\n",
      "\u001b[1m\u001b[92m [DEBUG]: == [Content Planner] Task output: Content Plan: \n",
      "\n",
      "Title: Unveiling the Latest Trends and Key Players in Artificial Intelligence\n",
      "\n",
      "Introduction:\n",
      "- Brief overview of the growing importance of Artificial Intelligence in various industries\n",
      "- Mention of the purpose of the article to highlight the latest trends and key players in the field\n",
      "\n",
      "Key Points:\n",
      "1. Latest Trends in Artificial Intelligence:\n",
      "- Advancements in machine learning algorithms\n",
      "- Rise of explainable AI\n",
      "- Increased focus on ethical AI practices\n",
      "- Integration of AI in healthcare, finance, and retail sectors\n",
      "\n",
      "2. Key Players in Artificial Intelligence:\n",
      "- Google DeepMind\n",
      "- IBM Watson\n",
      "- Microsoft Azure AI\n",
      "- OpenAI\n",
      "- NVIDIA\n",
      "\n",
      "3. Noteworthy News in Artificial Intelligence:\n",
      "- Recent breakthroughs in natural language processing\n",
      "- Impact of AI on job automation and workforce transformation\n",
      "- Ethical concerns surrounding AI technology\n",
      "\n",
      "Audience Analysis:\n",
      "Target Audience: \n",
      "- Business professionals looking to implement AI solutions\n",
      "- Tech enthusiasts interested in AI advancements\n",
      "- Students studying artificial intelligence\n",
      "\n",
      "Interests:\n",
      "- Staying updated on the latest trends and developments in AI\n",
      "- Understanding the key players shaping the AI landscape\n",
      "- Exploring the potential applications of AI in different industries\n",
      "\n",
      "Pain Points:\n",
      "- Difficulty in keeping up with the rapidly evolving AI landscape\n",
      "- Uncertainty about the ethical implications of AI technology\n",
      "- Confusion regarding the best AI solutions for specific business needs\n",
      "\n",
      "SEO Keywords:\n",
      "- Artificial Intelligence trends\n",
      "- Top AI companies\n",
      "- AI news updates\n",
      "- Machine learning advancements\n",
      "- Ethical AI practices\n",
      "\n",
      "Resources:\n",
      "1. \"The State of AI in 2021\" report by PwC\n",
      "2. Forbes article on \"Top Artificial Intelligence Companies to Watch\"\n",
      "3. Harvard Business Review study on \"Ethical Considerations in AI Development\"\n",
      "\n",
      "\u001b[00m\n",
      "\u001b[1m\u001b[95m [DEBUG]: == Working Agent: Content Writer\u001b[00m\n",
      "\u001b[1m\u001b[95m [INFO]: == Starting Task: 1. Use the content plan to craft a compelling blog post on Artificial Intelligence.\n",
      "2. Incorporate SEO keywords naturally.\n",
      "3. Sections/Subtitles are properly named in an engaging manner.\n",
      "4. Ensure the post is structured with an engaging introduction, insightful body, and a summarizing conclusion.\n",
      "5. Proofread for grammatical errors and alignment with the brand's voice.\n",
      "\u001b[00m\n",
      "\n",
      "\n",
      "\u001b[1m> Entering new CrewAgentExecutor chain...\u001b[0m\n",
      "\u001b[32;1m\u001b[1;3mI now can give a great answer\n",
      "\n",
      "Final Answer:\n",
      "\n",
      "# Unveiling the Latest Trends and Key Players in Artificial Intelligence\n",
      "\n",
      "## Introduction\n",
      "\n",
      "Artificial Intelligence (AI) has become increasingly vital across various industries, revolutionizing processes and driving innovation. In this article, we aim to shed light on the latest trends and key players shaping the AI landscape. From advancements in machine learning algorithms to ethical considerations in AI development, we will explore the dynamic world of Artificial Intelligence.\n",
      "\n",
      "## Latest Trends in Artificial Intelligence\n",
      "\n",
      "The field of AI is constantly evolving, with new trends emerging to enhance its capabilities. One significant trend is the advancements in machine learning algorithms, enabling AI systems to learn and adapt to complex data patterns more efficiently. Additionally, there is a growing emphasis on explainable AI, where AI systems provide transparent explanations for their decisions, increasing trust and understanding among users. Ethical AI practices are also gaining traction, as companies strive to develop AI solutions that align with moral and social values. The integration of AI in key sectors such as healthcare, finance, and retail is another notable trend, showcasing the diverse applications of AI technology in optimizing processes and driving growth.\n",
      "\n",
      "## Key Players in Artificial Intelligence\n",
      "\n",
      "Several prominent companies are at the forefront of AI innovation, shaping the industry with their cutting-edge technologies. Google DeepMind stands out for its breakthroughs in deep learning and reinforcement learning, pushing the boundaries of AI research. IBM Watson is renowned for its cognitive computing capabilities, empowering businesses with AI-driven insights and solutions. Microsoft Azure AI offers a comprehensive suite of AI tools and services, enabling organizations to harness the power of AI for various applications. OpenAI is a leader in AI research and development, focusing on creating safe and beneficial AI for all. NVIDIA's expertise in GPU technology has revolutionized AI computing, driving advancements in AI research and implementation.\n",
      "\n",
      "## Noteworthy News in Artificial Intelligence\n",
      "\n",
      "Recent developments in natural language processing have showcased AI's ability to understand and generate human language with remarkable accuracy. The impact of AI on job automation and workforce transformation continues to be a topic of discussion, with AI technologies reshaping the labor market and driving new skill requirements. Ethical concerns surrounding AI technology, such as bias in algorithms and data privacy issues, highlight the importance of responsible AI development and deployment.\n",
      "\n",
      "In conclusion, Artificial Intelligence is a dynamic and transformative field, with the latest trends and key players shaping its future trajectory. By staying informed on AI advancements and understanding the ethical implications of AI technology, businesses and individuals can navigate the evolving AI landscape with confidence and foresight. Whether you are a business professional seeking AI solutions, a tech enthusiast exploring AI innovations, or a student studying artificial intelligence, keeping abreast of the latest trends and key players in AI is essential in harnessing the full potential of this groundbreaking technology.\u001b[0m\n",
      "\n",
      "\u001b[1m> Finished chain.\u001b[0m\n",
      "\u001b[1m\u001b[92m [DEBUG]: == [Content Writer] Task output: # Unveiling the Latest Trends and Key Players in Artificial Intelligence\n",
      "\n",
      "## Introduction\n",
      "\n",
      "Artificial Intelligence (AI) has become increasingly vital across various industries, revolutionizing processes and driving innovation. In this article, we aim to shed light on the latest trends and key players shaping the AI landscape. From advancements in machine learning algorithms to ethical considerations in AI development, we will explore the dynamic world of Artificial Intelligence.\n",
      "\n",
      "## Latest Trends in Artificial Intelligence\n",
      "\n",
      "The field of AI is constantly evolving, with new trends emerging to enhance its capabilities. One significant trend is the advancements in machine learning algorithms, enabling AI systems to learn and adapt to complex data patterns more efficiently. Additionally, there is a growing emphasis on explainable AI, where AI systems provide transparent explanations for their decisions, increasing trust and understanding among users. Ethical AI practices are also gaining traction, as companies strive to develop AI solutions that align with moral and social values. The integration of AI in key sectors such as healthcare, finance, and retail is another notable trend, showcasing the diverse applications of AI technology in optimizing processes and driving growth.\n",
      "\n",
      "## Key Players in Artificial Intelligence\n",
      "\n",
      "Several prominent companies are at the forefront of AI innovation, shaping the industry with their cutting-edge technologies. Google DeepMind stands out for its breakthroughs in deep learning and reinforcement learning, pushing the boundaries of AI research. IBM Watson is renowned for its cognitive computing capabilities, empowering businesses with AI-driven insights and solutions. Microsoft Azure AI offers a comprehensive suite of AI tools and services, enabling organizations to harness the power of AI for various applications. OpenAI is a leader in AI research and development, focusing on creating safe and beneficial AI for all. NVIDIA's expertise in GPU technology has revolutionized AI computing, driving advancements in AI research and implementation.\n",
      "\n",
      "## Noteworthy News in Artificial Intelligence\n",
      "\n",
      "Recent developments in natural language processing have showcased AI's ability to understand and generate human language with remarkable accuracy. The impact of AI on job automation and workforce transformation continues to be a topic of discussion, with AI technologies reshaping the labor market and driving new skill requirements. Ethical concerns surrounding AI technology, such as bias in algorithms and data privacy issues, highlight the importance of responsible AI development and deployment.\n",
      "\n",
      "In conclusion, Artificial Intelligence is a dynamic and transformative field, with the latest trends and key players shaping its future trajectory. By staying informed on AI advancements and understanding the ethical implications of AI technology, businesses and individuals can navigate the evolving AI landscape with confidence and foresight. Whether you are a business professional seeking AI solutions, a tech enthusiast exploring AI innovations, or a student studying artificial intelligence, keeping abreast of the latest trends and key players in AI is essential in harnessing the full potential of this groundbreaking technology.\n",
      "\n",
      "\u001b[00m\n",
      "\u001b[1m\u001b[95m [DEBUG]: == Working Agent: Editor\u001b[00m\n",
      "\u001b[1m\u001b[95m [INFO]: == Starting Task: Proofread the given blog post for grammatical errors and alignment with the brand's voice.\u001b[00m\n",
      "\n",
      "\n",
      "\u001b[1m> Entering new CrewAgentExecutor chain...\u001b[0m\n"
     ]
    },
    {
     "name": "stdout",
     "output_type": "stream",
     "text": [
      "\u001b[32;1m\u001b[1;3mI now can give a great answer\n",
      "\n",
      "Final Answer:\n",
      "# Unveiling the Latest Trends and Key Players in Artificial Intelligence\n",
      "\n",
      "## Introduction\n",
      "\n",
      "Artificial Intelligence (AI) has become increasingly vital across various industries, revolutionizing processes and driving innovation. In this article, we aim to shed light on the latest trends and key players shaping the AI landscape. From advancements in machine learning algorithms to ethical considerations in AI development, we will explore the dynamic world of Artificial Intelligence.\n",
      "\n",
      "## Latest Trends in Artificial Intelligence\n",
      "\n",
      "The field of AI is constantly evolving, with new trends emerging to enhance its capabilities. One significant trend is the advancements in machine learning algorithms, enabling AI systems to learn and adapt to complex data patterns more efficiently. Additionally, there is a growing emphasis on explainable AI, where AI systems provide transparent explanations for their decisions, increasing trust and understanding among users. Ethical AI practices are also gaining traction, as companies strive to develop AI solutions that align with moral and social values. The integration of AI in key sectors such as healthcare, finance, and retail is another notable trend, showcasing the diverse applications of AI technology in optimizing processes and driving growth.\n",
      "\n",
      "## Key Players in Artificial Intelligence\n",
      "\n",
      "Several prominent companies are at the forefront of AI innovation, shaping the industry with their cutting-edge technologies. Google DeepMind stands out for its breakthroughs in deep learning and reinforcement learning, pushing the boundaries of AI research. IBM Watson is renowned for its cognitive computing capabilities, empowering businesses with AI-driven insights and solutions. Microsoft Azure AI offers a comprehensive suite of AI tools and services, enabling organizations to harness the power of AI for various applications. OpenAI is a leader in AI research and development, focusing on creating safe and beneficial AI for all. NVIDIA's expertise in GPU technology has revolutionized AI computing, driving advancements in AI research and implementation.\n",
      "\n",
      "## Noteworthy News in Artificial Intelligence\n",
      "\n",
      "Recent developments in natural language processing have showcased AI's ability to understand and generate human language with remarkable accuracy. The impact of AI on job automation and workforce transformation continues to be a topic of discussion, with AI technologies reshaping the labor market and driving new skill requirements. Ethical concerns surrounding AI technology, such as bias in algorithms and data privacy issues, highlight the importance of responsible AI development and deployment.\n",
      "\n",
      "In conclusion, Artificial Intelligence is a dynamic and transformative field, with the latest trends and key players shaping its future trajectory. By staying informed on AI advancements and understanding the ethical implications of AI technology, businesses and individuals can navigate the evolving AI landscape with confidence and foresight. Whether you are a business professional seeking AI solutions, a tech enthusiast exploring AI innovations, or a student studying artificial intelligence, keeping abreast of the latest trends and key players in AI is essential in harnessing the full potential of this groundbreaking technology.\u001b[0m\n",
      "\n",
      "\u001b[1m> Finished chain.\u001b[0m\n",
      "\u001b[1m\u001b[92m [DEBUG]: == [Editor] Task output: # Unveiling the Latest Trends and Key Players in Artificial Intelligence\n",
      "\n",
      "## Introduction\n",
      "\n",
      "Artificial Intelligence (AI) has become increasingly vital across various industries, revolutionizing processes and driving innovation. In this article, we aim to shed light on the latest trends and key players shaping the AI landscape. From advancements in machine learning algorithms to ethical considerations in AI development, we will explore the dynamic world of Artificial Intelligence.\n",
      "\n",
      "## Latest Trends in Artificial Intelligence\n",
      "\n",
      "The field of AI is constantly evolving, with new trends emerging to enhance its capabilities. One significant trend is the advancements in machine learning algorithms, enabling AI systems to learn and adapt to complex data patterns more efficiently. Additionally, there is a growing emphasis on explainable AI, where AI systems provide transparent explanations for their decisions, increasing trust and understanding among users. Ethical AI practices are also gaining traction, as companies strive to develop AI solutions that align with moral and social values. The integration of AI in key sectors such as healthcare, finance, and retail is another notable trend, showcasing the diverse applications of AI technology in optimizing processes and driving growth.\n",
      "\n",
      "## Key Players in Artificial Intelligence\n",
      "\n",
      "Several prominent companies are at the forefront of AI innovation, shaping the industry with their cutting-edge technologies. Google DeepMind stands out for its breakthroughs in deep learning and reinforcement learning, pushing the boundaries of AI research. IBM Watson is renowned for its cognitive computing capabilities, empowering businesses with AI-driven insights and solutions. Microsoft Azure AI offers a comprehensive suite of AI tools and services, enabling organizations to harness the power of AI for various applications. OpenAI is a leader in AI research and development, focusing on creating safe and beneficial AI for all. NVIDIA's expertise in GPU technology has revolutionized AI computing, driving advancements in AI research and implementation.\n",
      "\n",
      "## Noteworthy News in Artificial Intelligence\n",
      "\n",
      "Recent developments in natural language processing have showcased AI's ability to understand and generate human language with remarkable accuracy. The impact of AI on job automation and workforce transformation continues to be a topic of discussion, with AI technologies reshaping the labor market and driving new skill requirements. Ethical concerns surrounding AI technology, such as bias in algorithms and data privacy issues, highlight the importance of responsible AI development and deployment.\n",
      "\n",
      "In conclusion, Artificial Intelligence is a dynamic and transformative field, with the latest trends and key players shaping its future trajectory. By staying informed on AI advancements and understanding the ethical implications of AI technology, businesses and individuals can navigate the evolving AI landscape with confidence and foresight. Whether you are a business professional seeking AI solutions, a tech enthusiast exploring AI innovations, or a student studying artificial intelligence, keeping abreast of the latest trends and key players in AI is essential in harnessing the full potential of this groundbreaking technology.\n",
      "\n",
      "\u001b[00m\n"
     ]
    }
   ],
   "source": [
    "result = crew.kickoff(inputs={\"topic\": \"Artificial Intelligence\"})"
   ]
  },
  {
   "cell_type": "markdown",
   "metadata": {},
   "source": [
    "- Display the results of your execution as markdown in the notebook."
   ]
  },
  {
   "cell_type": "code",
   "execution_count": 12,
   "metadata": {
    "height": 47
   },
   "outputs": [
    {
     "data": {
      "text/markdown": [
       "# Unveiling the Latest Trends and Key Players in Artificial Intelligence\n",
       "\n",
       "## Introduction\n",
       "\n",
       "Artificial Intelligence (AI) has become increasingly vital across various industries, revolutionizing processes and driving innovation. In this article, we aim to shed light on the latest trends and key players shaping the AI landscape. From advancements in machine learning algorithms to ethical considerations in AI development, we will explore the dynamic world of Artificial Intelligence.\n",
       "\n",
       "## Latest Trends in Artificial Intelligence\n",
       "\n",
       "The field of AI is constantly evolving, with new trends emerging to enhance its capabilities. One significant trend is the advancements in machine learning algorithms, enabling AI systems to learn and adapt to complex data patterns more efficiently. Additionally, there is a growing emphasis on explainable AI, where AI systems provide transparent explanations for their decisions, increasing trust and understanding among users. Ethical AI practices are also gaining traction, as companies strive to develop AI solutions that align with moral and social values. The integration of AI in key sectors such as healthcare, finance, and retail is another notable trend, showcasing the diverse applications of AI technology in optimizing processes and driving growth.\n",
       "\n",
       "## Key Players in Artificial Intelligence\n",
       "\n",
       "Several prominent companies are at the forefront of AI innovation, shaping the industry with their cutting-edge technologies. Google DeepMind stands out for its breakthroughs in deep learning and reinforcement learning, pushing the boundaries of AI research. IBM Watson is renowned for its cognitive computing capabilities, empowering businesses with AI-driven insights and solutions. Microsoft Azure AI offers a comprehensive suite of AI tools and services, enabling organizations to harness the power of AI for various applications. OpenAI is a leader in AI research and development, focusing on creating safe and beneficial AI for all. NVIDIA's expertise in GPU technology has revolutionized AI computing, driving advancements in AI research and implementation.\n",
       "\n",
       "## Noteworthy News in Artificial Intelligence\n",
       "\n",
       "Recent developments in natural language processing have showcased AI's ability to understand and generate human language with remarkable accuracy. The impact of AI on job automation and workforce transformation continues to be a topic of discussion, with AI technologies reshaping the labor market and driving new skill requirements. Ethical concerns surrounding AI technology, such as bias in algorithms and data privacy issues, highlight the importance of responsible AI development and deployment.\n",
       "\n",
       "In conclusion, Artificial Intelligence is a dynamic and transformative field, with the latest trends and key players shaping its future trajectory. By staying informed on AI advancements and understanding the ethical implications of AI technology, businesses and individuals can navigate the evolving AI landscape with confidence and foresight. Whether you are a business professional seeking AI solutions, a tech enthusiast exploring AI innovations, or a student studying artificial intelligence, keeping abreast of the latest trends and key players in AI is essential in harnessing the full potential of this groundbreaking technology."
      ],
      "text/plain": [
       "<IPython.core.display.Markdown object>"
      ]
     },
     "execution_count": 12,
     "metadata": {},
     "output_type": "execute_result"
    }
   ],
   "source": [
    "from IPython.display import Markdown\n",
    "Markdown(result)"
   ]
  },
  {
   "cell_type": "markdown",
   "metadata": {},
   "source": [
    "## Try it Yourself\n",
    "\n",
    "- Pass in a topic of your choice and see what the agents come up with!"
   ]
  },
  {
   "cell_type": "code",
   "execution_count": 13,
   "metadata": {
    "height": 62
   },
   "outputs": [
    {
     "name": "stdout",
     "output_type": "stream",
     "text": [
      "\u001b[1m\u001b[95m [DEBUG]: == Working Agent: Content Planner\u001b[00m\n",
      "\u001b[1m\u001b[95m [INFO]: == Starting Task: 1. Prioritize the latest trends, key players, and noteworthy news on YOUR TOPIC HERE.\n",
      "2. Identify the target audience, considering their interests and pain points.\n",
      "3. Develop a detailed content outline including an introduction, key points, and a call to action.\n",
      "4. Include SEO keywords and relevant data or sources.\u001b[00m\n",
      "\n",
      "\n",
      "\u001b[1m> Entering new CrewAgentExecutor chain...\u001b[0m\n",
      "\u001b[32;1m\u001b[1;3mI now can give a great answer\n",
      "\n",
      "Final Answer: \n",
      "\n",
      "Content Plan: \n",
      "\n",
      "Title: Exploring the Latest Trends and Key Players in the World of Digital Marketing\n",
      "\n",
      "Outline:\n",
      "I. Introduction\n",
      "- Brief overview of the importance of digital marketing in today's business landscape\n",
      "- Thesis statement highlighting the latest trends and key players in the industry\n",
      "\n",
      "II. Latest Trends in Digital Marketing\n",
      "A. Artificial Intelligence and Machine Learning\n",
      "- Impact on personalized marketing strategies\n",
      "- Examples of AI tools used in digital marketing\n",
      "\n",
      "B. Video Marketing\n",
      "- Rise of video content on social media platforms\n",
      "- Benefits of incorporating video into marketing campaigns\n",
      "\n",
      "C. Voice Search Optimization\n",
      "- Growing importance of optimizing for voice search\n",
      "- Strategies for improving voice search visibility\n",
      "\n",
      "III. Key Players in Digital Marketing\n",
      "A. Google\n",
      "- Dominance in the search engine market\n",
      "- Updates to Google algorithms and their impact on SEO\n",
      "\n",
      "B. Facebook\n",
      "- Role of Facebook advertising in digital marketing\n",
      "- Recent developments in Facebook's advertising platform\n",
      "\n",
      "C. Amazon\n",
      "- Expansion of Amazon's advertising services\n",
      "- Opportunities for businesses to leverage Amazon's platform for marketing\n",
      "\n",
      "IV. Target Audience Analysis\n",
      "- Small to medium-sized businesses looking to enhance their digital marketing strategies\n",
      "- Marketing professionals seeking to stay updated on industry trends\n",
      "- Entrepreneurs looking to capitalize on the latest marketing innovations\n",
      "\n",
      "V. Call to Action\n",
      "- Encourage readers to implement the latest trends discussed in their own marketing efforts\n",
      "- Provide resources for further reading and learning about digital marketing\n",
      "\n",
      "SEO Keywords:\n",
      "- digital marketing trends\n",
      "- key players in digital marketing\n",
      "- AI in digital marketing\n",
      "- video marketing strategies\n",
      "- voice search optimization\n",
      "- Google algorithms\n",
      "- Facebook advertising\n",
      "- Amazon marketing services\n",
      "\n",
      "Resources:\n",
      "1. \"The State of Digital Marketing in 2021\" - HubSpot\n",
      "2. \"AI in Digital Marketing: How AI is Reshaping the Industry\" - Forbes\n",
      "3. \"Video Marketing Statistics for 2021\" - Wyzowl\n",
      "4. \"Voice Search Optimization: A Guide for Marketers\" - Search Engine Journal\n",
      "5. \"The Rise of Amazon Advertising\" - Digiday\n",
      "\n",
      "This content plan provides a comprehensive overview of the latest trends and key players in the world of digital marketing, tailored to the interests and pain points of our target audience. By incorporating SEO keywords and relevant resources, we aim to create engaging and factually accurate content that empowers readers to make informed decisions in their marketing strategies.\u001b[0m\n",
      "\n",
      "\u001b[1m> Finished chain.\u001b[0m\n",
      "\u001b[1m\u001b[92m [DEBUG]: == [Content Planner] Task output: Content Plan: \n",
      "\n",
      "Title: Exploring the Latest Trends and Key Players in the World of Digital Marketing\n",
      "\n",
      "Outline:\n",
      "I. Introduction\n",
      "- Brief overview of the importance of digital marketing in today's business landscape\n",
      "- Thesis statement highlighting the latest trends and key players in the industry\n",
      "\n",
      "II. Latest Trends in Digital Marketing\n",
      "A. Artificial Intelligence and Machine Learning\n",
      "- Impact on personalized marketing strategies\n",
      "- Examples of AI tools used in digital marketing\n",
      "\n",
      "B. Video Marketing\n",
      "- Rise of video content on social media platforms\n",
      "- Benefits of incorporating video into marketing campaigns\n",
      "\n",
      "C. Voice Search Optimization\n",
      "- Growing importance of optimizing for voice search\n",
      "- Strategies for improving voice search visibility\n",
      "\n",
      "III. Key Players in Digital Marketing\n",
      "A. Google\n",
      "- Dominance in the search engine market\n",
      "- Updates to Google algorithms and their impact on SEO\n",
      "\n",
      "B. Facebook\n",
      "- Role of Facebook advertising in digital marketing\n",
      "- Recent developments in Facebook's advertising platform\n",
      "\n",
      "C. Amazon\n",
      "- Expansion of Amazon's advertising services\n",
      "- Opportunities for businesses to leverage Amazon's platform for marketing\n",
      "\n",
      "IV. Target Audience Analysis\n",
      "- Small to medium-sized businesses looking to enhance their digital marketing strategies\n",
      "- Marketing professionals seeking to stay updated on industry trends\n",
      "- Entrepreneurs looking to capitalize on the latest marketing innovations\n",
      "\n",
      "V. Call to Action\n",
      "- Encourage readers to implement the latest trends discussed in their own marketing efforts\n",
      "- Provide resources for further reading and learning about digital marketing\n",
      "\n",
      "SEO Keywords:\n",
      "- digital marketing trends\n",
      "- key players in digital marketing\n",
      "- AI in digital marketing\n",
      "- video marketing strategies\n",
      "- voice search optimization\n",
      "- Google algorithms\n",
      "- Facebook advertising\n",
      "- Amazon marketing services\n",
      "\n",
      "Resources:\n",
      "1. \"The State of Digital Marketing in 2021\" - HubSpot\n",
      "2. \"AI in Digital Marketing: How AI is Reshaping the Industry\" - Forbes\n",
      "3. \"Video Marketing Statistics for 2021\" - Wyzowl\n",
      "4. \"Voice Search Optimization: A Guide for Marketers\" - Search Engine Journal\n",
      "5. \"The Rise of Amazon Advertising\" - Digiday\n",
      "\n",
      "This content plan provides a comprehensive overview of the latest trends and key players in the world of digital marketing, tailored to the interests and pain points of our target audience. By incorporating SEO keywords and relevant resources, we aim to create engaging and factually accurate content that empowers readers to make informed decisions in their marketing strategies.\n",
      "\n",
      "\u001b[00m\n",
      "\u001b[1m\u001b[95m [DEBUG]: == Working Agent: Content Writer\u001b[00m\n",
      "\u001b[1m\u001b[95m [INFO]: == Starting Task: 1. Use the content plan to craft a compelling blog post on YOUR TOPIC HERE.\n",
      "2. Incorporate SEO keywords naturally.\n",
      "3. Sections/Subtitles are properly named in an engaging manner.\n",
      "4. Ensure the post is structured with an engaging introduction, insightful body, and a summarizing conclusion.\n",
      "5. Proofread for grammatical errors and alignment with the brand's voice.\n",
      "\u001b[00m\n",
      "\n",
      "\n",
      "\u001b[1m> Entering new CrewAgentExecutor chain...\u001b[0m\n",
      "\u001b[32;1m\u001b[1;3mI now can give a great answer\n",
      "\n",
      "Final Answer:\n",
      "# Exploring the Latest Trends and Key Players in the World of Digital Marketing\n",
      "\n",
      "In today's rapidly evolving business landscape, digital marketing plays a crucial role in reaching and engaging with customers. As technology continues to advance, staying updated on the latest trends and key players in the digital marketing industry is essential for businesses looking to stay competitive. In this blog post, we will delve into the current trends shaping digital marketing strategies and highlight the key players driving innovation in the field.\n",
      "\n",
      "## Latest Trends in Digital Marketing\n",
      "\n",
      "### Artificial Intelligence and Machine Learning\n",
      "Artificial Intelligence (AI) and Machine Learning have revolutionized the way businesses approach marketing. These technologies enable personalized marketing strategies by analyzing vast amounts of data to predict consumer behavior. AI tools such as chatbots, recommendation engines, and predictive analytics are increasingly used in digital marketing to enhance customer experiences and drive conversions.\n",
      "\n",
      "### Video Marketing\n",
      "The rise of video content on social media platforms has transformed how brands connect with their audiences. Video marketing allows businesses to convey their messages in a visually engaging way, leading to higher engagement rates and increased brand awareness. Incorporating video into marketing campaigns has become a must-have strategy for businesses looking to stand out in a crowded digital landscape.\n",
      "\n",
      "### Voice Search Optimization\n",
      "With the growing popularity of voice-activated devices like smart speakers and virtual assistants, optimizing for voice search has become essential for businesses. Voice search optimization involves tailoring content to match natural language queries and providing concise, accurate answers. Implementing strategies to improve voice search visibility can help businesses capture a larger share of voice search traffic and enhance their online presence.\n",
      "\n",
      "## Key Players in Digital Marketing\n",
      "\n",
      "### Google\n",
      "As the dominant player in the search engine market, Google wields significant influence over digital marketing strategies. Updates to Google algorithms can have a profound impact on website rankings and SEO performance. Staying informed about these changes and adapting marketing tactics accordingly is crucial for businesses looking to maintain visibility in search results.\n",
      "\n",
      "### Facebook\n",
      "Facebook's advertising platform remains a powerhouse in digital marketing, offering businesses a variety of targeting options and ad formats to reach their desired audience. Recent developments in Facebook's advertising platform, such as improved analytics and ad placement tools, provide marketers with the tools they need to create effective campaigns and drive conversions.\n",
      "\n",
      "### Amazon\n",
      "Amazon's advertising services have expanded rapidly in recent years, offering businesses unique opportunities to reach customers on the e-commerce giant's platform. Leveraging Amazon's advertising tools can help businesses increase product visibility, drive sales, and improve overall marketing performance. As Amazon continues to grow its advertising capabilities, businesses can capitalize on this platform to enhance their marketing strategies.\n",
      "\n",
      "## Target Audience Analysis\n",
      "This blog post is tailored to small to medium-sized businesses seeking to enhance their digital marketing strategies, marketing professionals looking to stay updated on industry trends, and entrepreneurs eager to capitalize on the latest marketing innovations. By providing insights into the latest trends and key players in digital marketing, we aim to empower our audience to make informed decisions and drive success in their marketing efforts.\n",
      "\n",
      "## Call to Action\n",
      "As you navigate the ever-changing landscape of digital marketing, it's essential to stay informed about the latest trends and innovations shaping the industry. Implement the insights shared in this blog post into your marketing strategies to stay ahead of the curve and drive meaningful results. For further reading and learning about digital marketing, check out the recommended resources below.\n",
      "\n",
      "By embracing the latest trends and understanding the key players in digital marketing, businesses can position themselves for success in a competitive marketplace. Stay informed, stay innovative, and watch your digital marketing efforts thrive.\n",
      "\n",
      "Resources:\n",
      "- \"The State of Digital Marketing in 2021\" - HubSpot\n",
      "- \"AI in Digital Marketing: How AI is Reshaping the Industry\" - Forbes\n",
      "- \"Video Marketing Statistics for 2021\" - Wyzowl\n",
      "- \"Voice Search Optimization: A Guide for Marketers\" - Search Engine Journal\n",
      "- \"The Rise of Amazon Advertising\" - Digiday\u001b[0m\n",
      "\n",
      "\u001b[1m> Finished chain.\u001b[0m\n",
      "\u001b[1m\u001b[92m [DEBUG]: == [Content Writer] Task output: # Exploring the Latest Trends and Key Players in the World of Digital Marketing\n",
      "\n",
      "In today's rapidly evolving business landscape, digital marketing plays a crucial role in reaching and engaging with customers. As technology continues to advance, staying updated on the latest trends and key players in the digital marketing industry is essential for businesses looking to stay competitive. In this blog post, we will delve into the current trends shaping digital marketing strategies and highlight the key players driving innovation in the field.\n",
      "\n",
      "## Latest Trends in Digital Marketing\n",
      "\n",
      "### Artificial Intelligence and Machine Learning\n",
      "Artificial Intelligence (AI) and Machine Learning have revolutionized the way businesses approach marketing. These technologies enable personalized marketing strategies by analyzing vast amounts of data to predict consumer behavior. AI tools such as chatbots, recommendation engines, and predictive analytics are increasingly used in digital marketing to enhance customer experiences and drive conversions.\n",
      "\n",
      "### Video Marketing\n",
      "The rise of video content on social media platforms has transformed how brands connect with their audiences. Video marketing allows businesses to convey their messages in a visually engaging way, leading to higher engagement rates and increased brand awareness. Incorporating video into marketing campaigns has become a must-have strategy for businesses looking to stand out in a crowded digital landscape.\n",
      "\n",
      "### Voice Search Optimization\n",
      "With the growing popularity of voice-activated devices like smart speakers and virtual assistants, optimizing for voice search has become essential for businesses. Voice search optimization involves tailoring content to match natural language queries and providing concise, accurate answers. Implementing strategies to improve voice search visibility can help businesses capture a larger share of voice search traffic and enhance their online presence.\n",
      "\n",
      "## Key Players in Digital Marketing\n",
      "\n",
      "### Google\n",
      "As the dominant player in the search engine market, Google wields significant influence over digital marketing strategies. Updates to Google algorithms can have a profound impact on website rankings and SEO performance. Staying informed about these changes and adapting marketing tactics accordingly is crucial for businesses looking to maintain visibility in search results.\n",
      "\n",
      "### Facebook\n",
      "Facebook's advertising platform remains a powerhouse in digital marketing, offering businesses a variety of targeting options and ad formats to reach their desired audience. Recent developments in Facebook's advertising platform, such as improved analytics and ad placement tools, provide marketers with the tools they need to create effective campaigns and drive conversions.\n",
      "\n",
      "### Amazon\n",
      "Amazon's advertising services have expanded rapidly in recent years, offering businesses unique opportunities to reach customers on the e-commerce giant's platform. Leveraging Amazon's advertising tools can help businesses increase product visibility, drive sales, and improve overall marketing performance. As Amazon continues to grow its advertising capabilities, businesses can capitalize on this platform to enhance their marketing strategies.\n",
      "\n",
      "## Target Audience Analysis\n",
      "This blog post is tailored to small to medium-sized businesses seeking to enhance their digital marketing strategies, marketing professionals looking to stay updated on industry trends, and entrepreneurs eager to capitalize on the latest marketing innovations. By providing insights into the latest trends and key players in digital marketing, we aim to empower our audience to make informed decisions and drive success in their marketing efforts.\n",
      "\n",
      "## Call to Action\n",
      "As you navigate the ever-changing landscape of digital marketing, it's essential to stay informed about the latest trends and innovations shaping the industry. Implement the insights shared in this blog post into your marketing strategies to stay ahead of the curve and drive meaningful results. For further reading and learning about digital marketing, check out the recommended resources below.\n",
      "\n",
      "By embracing the latest trends and understanding the key players in digital marketing, businesses can position themselves for success in a competitive marketplace. Stay informed, stay innovative, and watch your digital marketing efforts thrive.\n",
      "\n",
      "Resources:\n",
      "- \"The State of Digital Marketing in 2021\" - HubSpot\n",
      "- \"AI in Digital Marketing: How AI is Reshaping the Industry\" - Forbes\n",
      "- \"Video Marketing Statistics for 2021\" - Wyzowl\n",
      "- \"Voice Search Optimization: A Guide for Marketers\" - Search Engine Journal\n",
      "- \"The Rise of Amazon Advertising\" - Digiday\n",
      "\n",
      "\u001b[00m\n",
      "\u001b[1m\u001b[95m [DEBUG]: == Working Agent: Editor\u001b[00m\n",
      "\u001b[1m\u001b[95m [INFO]: == Starting Task: Proofread the given blog post for grammatical errors and alignment with the brand's voice.\u001b[00m\n",
      "\n",
      "\n",
      "\u001b[1m> Entering new CrewAgentExecutor chain...\u001b[0m\n"
     ]
    },
    {
     "name": "stdout",
     "output_type": "stream",
     "text": [
      "\u001b[32;1m\u001b[1;3mI now can give a great answer\n",
      "\n",
      "Final Answer:\n",
      "# Exploring the Latest Trends and Key Players in the World of Digital Marketing\n",
      "\n",
      "In today's rapidly evolving business landscape, digital marketing plays a crucial role in reaching and engaging with customers. As technology continues to advance, staying updated on the latest trends and key players in the digital marketing industry is essential for businesses looking to stay competitive. In this blog post, we will delve into the current trends shaping digital marketing strategies and highlight the key players driving innovation in the field.\n",
      "\n",
      "## Latest Trends in Digital Marketing\n",
      "\n",
      "### Artificial Intelligence and Machine Learning\n",
      "Artificial Intelligence (AI) and Machine Learning have revolutionized the way businesses approach marketing. These technologies enable personalized marketing strategies by analyzing vast amounts of data to predict consumer behavior. AI tools such as chatbots, recommendation engines, and predictive analytics are increasingly used in digital marketing to enhance customer experiences and drive conversions.\n",
      "\n",
      "### Video Marketing\n",
      "The rise of video content on social media platforms has transformed how brands connect with their audiences. Video marketing allows businesses to convey their messages in a visually engaging way, leading to higher engagement rates and increased brand awareness. Incorporating video into marketing campaigns has become a must-have strategy for businesses looking to stand out in a crowded digital landscape.\n",
      "\n",
      "### Voice Search Optimization\n",
      "With the growing popularity of voice-activated devices like smart speakers and virtual assistants, optimizing for voice search has become essential for businesses. Voice search optimization involves tailoring content to match natural language queries and providing concise, accurate answers. Implementing strategies to improve voice search visibility can help businesses capture a larger share of voice search traffic and enhance their online presence.\n",
      "\n",
      "## Key Players in Digital Marketing\n",
      "\n",
      "### Google\n",
      "As the dominant player in the search engine market, Google wields significant influence over digital marketing strategies. Updates to Google algorithms can have a profound impact on website rankings and SEO performance. Staying informed about these changes and adapting marketing tactics accordingly is crucial for businesses looking to maintain visibility in search results.\n",
      "\n",
      "### Facebook\n",
      "Facebook's advertising platform remains a powerhouse in digital marketing, offering businesses a variety of targeting options and ad formats to reach their desired audience. Recent developments in Facebook's advertising platform, such as improved analytics and ad placement tools, provide marketers with the tools they need to create effective campaigns and drive conversions.\n",
      "\n",
      "### Amazon\n",
      "Amazon's advertising services have expanded rapidly in recent years, offering businesses unique opportunities to reach customers on the e-commerce giant's platform. Leveraging Amazon's advertising tools can help businesses increase product visibility, drive sales, and improve overall marketing performance. As Amazon continues to grow its advertising capabilities, businesses can capitalize on this platform to enhance their marketing strategies.\n",
      "\n",
      "## Target Audience Analysis\n",
      "This blog post is tailored to small to medium-sized businesses seeking to enhance their digital marketing strategies, marketing professionals looking to stay updated on industry trends, and entrepreneurs eager to capitalize on the latest marketing innovations. By providing insights into the latest trends and key players in digital marketing, we aim to empower our audience to make informed decisions and drive success in their marketing efforts.\n",
      "\n",
      "## Call to Action\n",
      "As you navigate the ever-changing landscape of digital marketing, it's essential to stay informed about the latest trends and innovations shaping the industry. Implement the insights shared in this blog post into your marketing strategies to stay ahead of the curve and drive meaningful results. For further reading and learning about digital marketing, check out the recommended resources below.\n",
      "\n",
      "By embracing the latest trends and understanding the key players in digital marketing, businesses can position themselves for success in a competitive marketplace. Stay informed, stay innovative, and watch your digital marketing efforts thrive.\n",
      "\n",
      "Resources:\n",
      "- \"The State of Digital Marketing in 2021\" - HubSpot\n",
      "- \"AI in Digital Marketing: How AI is Reshaping the Industry\" - Forbes\n",
      "- \"Video Marketing Statistics for 2021\" - Wyzowl\n",
      "- \"Voice Search Optimization: A Guide for Marketers\" - Search Engine Journal\n",
      "- \"The Rise of Amazon Advertising\" - Digiday\u001b[0m\n",
      "\n",
      "\u001b[1m> Finished chain.\u001b[0m\n",
      "\u001b[1m\u001b[92m [DEBUG]: == [Editor] Task output: # Exploring the Latest Trends and Key Players in the World of Digital Marketing\n",
      "\n",
      "In today's rapidly evolving business landscape, digital marketing plays a crucial role in reaching and engaging with customers. As technology continues to advance, staying updated on the latest trends and key players in the digital marketing industry is essential for businesses looking to stay competitive. In this blog post, we will delve into the current trends shaping digital marketing strategies and highlight the key players driving innovation in the field.\n",
      "\n",
      "## Latest Trends in Digital Marketing\n",
      "\n",
      "### Artificial Intelligence and Machine Learning\n",
      "Artificial Intelligence (AI) and Machine Learning have revolutionized the way businesses approach marketing. These technologies enable personalized marketing strategies by analyzing vast amounts of data to predict consumer behavior. AI tools such as chatbots, recommendation engines, and predictive analytics are increasingly used in digital marketing to enhance customer experiences and drive conversions.\n",
      "\n",
      "### Video Marketing\n",
      "The rise of video content on social media platforms has transformed how brands connect with their audiences. Video marketing allows businesses to convey their messages in a visually engaging way, leading to higher engagement rates and increased brand awareness. Incorporating video into marketing campaigns has become a must-have strategy for businesses looking to stand out in a crowded digital landscape.\n",
      "\n",
      "### Voice Search Optimization\n",
      "With the growing popularity of voice-activated devices like smart speakers and virtual assistants, optimizing for voice search has become essential for businesses. Voice search optimization involves tailoring content to match natural language queries and providing concise, accurate answers. Implementing strategies to improve voice search visibility can help businesses capture a larger share of voice search traffic and enhance their online presence.\n",
      "\n",
      "## Key Players in Digital Marketing\n",
      "\n",
      "### Google\n",
      "As the dominant player in the search engine market, Google wields significant influence over digital marketing strategies. Updates to Google algorithms can have a profound impact on website rankings and SEO performance. Staying informed about these changes and adapting marketing tactics accordingly is crucial for businesses looking to maintain visibility in search results.\n",
      "\n",
      "### Facebook\n",
      "Facebook's advertising platform remains a powerhouse in digital marketing, offering businesses a variety of targeting options and ad formats to reach their desired audience. Recent developments in Facebook's advertising platform, such as improved analytics and ad placement tools, provide marketers with the tools they need to create effective campaigns and drive conversions.\n",
      "\n",
      "### Amazon\n",
      "Amazon's advertising services have expanded rapidly in recent years, offering businesses unique opportunities to reach customers on the e-commerce giant's platform. Leveraging Amazon's advertising tools can help businesses increase product visibility, drive sales, and improve overall marketing performance. As Amazon continues to grow its advertising capabilities, businesses can capitalize on this platform to enhance their marketing strategies.\n",
      "\n",
      "## Target Audience Analysis\n",
      "This blog post is tailored to small to medium-sized businesses seeking to enhance their digital marketing strategies, marketing professionals looking to stay updated on industry trends, and entrepreneurs eager to capitalize on the latest marketing innovations. By providing insights into the latest trends and key players in digital marketing, we aim to empower our audience to make informed decisions and drive success in their marketing efforts.\n",
      "\n",
      "## Call to Action\n",
      "As you navigate the ever-changing landscape of digital marketing, it's essential to stay informed about the latest trends and innovations shaping the industry. Implement the insights shared in this blog post into your marketing strategies to stay ahead of the curve and drive meaningful results. For further reading and learning about digital marketing, check out the recommended resources below.\n",
      "\n",
      "By embracing the latest trends and understanding the key players in digital marketing, businesses can position themselves for success in a competitive marketplace. Stay informed, stay innovative, and watch your digital marketing efforts thrive.\n",
      "\n",
      "Resources:\n",
      "- \"The State of Digital Marketing in 2021\" - HubSpot\n",
      "- \"AI in Digital Marketing: How AI is Reshaping the Industry\" - Forbes\n",
      "- \"Video Marketing Statistics for 2021\" - Wyzowl\n",
      "- \"Voice Search Optimization: A Guide for Marketers\" - Search Engine Journal\n",
      "- \"The Rise of Amazon Advertising\" - Digiday\n",
      "\n",
      "\u001b[00m\n"
     ]
    }
   ],
   "source": [
    "topic = \"YOUR TOPIC HERE\"\n",
    "result = crew.kickoff(inputs={\"topic\": topic})"
   ]
  },
  {
   "cell_type": "code",
   "execution_count": 14,
   "metadata": {
    "height": 30
   },
   "outputs": [
    {
     "data": {
      "text/markdown": [
       "# Exploring the Latest Trends and Key Players in the World of Digital Marketing\n",
       "\n",
       "In today's rapidly evolving business landscape, digital marketing plays a crucial role in reaching and engaging with customers. As technology continues to advance, staying updated on the latest trends and key players in the digital marketing industry is essential for businesses looking to stay competitive. In this blog post, we will delve into the current trends shaping digital marketing strategies and highlight the key players driving innovation in the field.\n",
       "\n",
       "## Latest Trends in Digital Marketing\n",
       "\n",
       "### Artificial Intelligence and Machine Learning\n",
       "Artificial Intelligence (AI) and Machine Learning have revolutionized the way businesses approach marketing. These technologies enable personalized marketing strategies by analyzing vast amounts of data to predict consumer behavior. AI tools such as chatbots, recommendation engines, and predictive analytics are increasingly used in digital marketing to enhance customer experiences and drive conversions.\n",
       "\n",
       "### Video Marketing\n",
       "The rise of video content on social media platforms has transformed how brands connect with their audiences. Video marketing allows businesses to convey their messages in a visually engaging way, leading to higher engagement rates and increased brand awareness. Incorporating video into marketing campaigns has become a must-have strategy for businesses looking to stand out in a crowded digital landscape.\n",
       "\n",
       "### Voice Search Optimization\n",
       "With the growing popularity of voice-activated devices like smart speakers and virtual assistants, optimizing for voice search has become essential for businesses. Voice search optimization involves tailoring content to match natural language queries and providing concise, accurate answers. Implementing strategies to improve voice search visibility can help businesses capture a larger share of voice search traffic and enhance their online presence.\n",
       "\n",
       "## Key Players in Digital Marketing\n",
       "\n",
       "### Google\n",
       "As the dominant player in the search engine market, Google wields significant influence over digital marketing strategies. Updates to Google algorithms can have a profound impact on website rankings and SEO performance. Staying informed about these changes and adapting marketing tactics accordingly is crucial for businesses looking to maintain visibility in search results.\n",
       "\n",
       "### Facebook\n",
       "Facebook's advertising platform remains a powerhouse in digital marketing, offering businesses a variety of targeting options and ad formats to reach their desired audience. Recent developments in Facebook's advertising platform, such as improved analytics and ad placement tools, provide marketers with the tools they need to create effective campaigns and drive conversions.\n",
       "\n",
       "### Amazon\n",
       "Amazon's advertising services have expanded rapidly in recent years, offering businesses unique opportunities to reach customers on the e-commerce giant's platform. Leveraging Amazon's advertising tools can help businesses increase product visibility, drive sales, and improve overall marketing performance. As Amazon continues to grow its advertising capabilities, businesses can capitalize on this platform to enhance their marketing strategies.\n",
       "\n",
       "## Target Audience Analysis\n",
       "This blog post is tailored to small to medium-sized businesses seeking to enhance their digital marketing strategies, marketing professionals looking to stay updated on industry trends, and entrepreneurs eager to capitalize on the latest marketing innovations. By providing insights into the latest trends and key players in digital marketing, we aim to empower our audience to make informed decisions and drive success in their marketing efforts.\n",
       "\n",
       "## Call to Action\n",
       "As you navigate the ever-changing landscape of digital marketing, it's essential to stay informed about the latest trends and innovations shaping the industry. Implement the insights shared in this blog post into your marketing strategies to stay ahead of the curve and drive meaningful results. For further reading and learning about digital marketing, check out the recommended resources below.\n",
       "\n",
       "By embracing the latest trends and understanding the key players in digital marketing, businesses can position themselves for success in a competitive marketplace. Stay informed, stay innovative, and watch your digital marketing efforts thrive.\n",
       "\n",
       "Resources:\n",
       "- \"The State of Digital Marketing in 2021\" - HubSpot\n",
       "- \"AI in Digital Marketing: How AI is Reshaping the Industry\" - Forbes\n",
       "- \"Video Marketing Statistics for 2021\" - Wyzowl\n",
       "- \"Voice Search Optimization: A Guide for Marketers\" - Search Engine Journal\n",
       "- \"The Rise of Amazon Advertising\" - Digiday"
      ],
      "text/plain": [
       "<IPython.core.display.Markdown object>"
      ]
     },
     "execution_count": 14,
     "metadata": {},
     "output_type": "execute_result"
    }
   ],
   "source": [
    "Markdown(result)"
   ]
  },
  {
   "cell_type": "markdown",
   "metadata": {},
   "source": [
    "<a name='1'></a>\n",
    " ## Other Popular Models as LLM for your Agents"
   ]
  },
  {
   "cell_type": "markdown",
   "metadata": {},
   "source": [
    "#### Hugging Face (HuggingFaceHub endpoint)\n",
    "\n",
    "```Python\n",
    "from langchain_community.llms import HuggingFaceHub\n",
    "\n",
    "llm = HuggingFaceHub(\n",
    "    repo_id=\"HuggingFaceH4/zephyr-7b-beta\",\n",
    "    huggingfacehub_api_token=\"<HF_TOKEN_HERE>\",\n",
    "    task=\"text-generation\",\n",
    ")\n",
    "\n",
    "### you will pass \"llm\" to your agent function\n",
    "```"
   ]
  },
  {
   "cell_type": "markdown",
   "metadata": {},
   "source": [
    "#### Mistral API\n",
    "\n",
    "```Python\n",
    "OPENAI_API_KEY=your-mistral-api-key\n",
    "OPENAI_API_BASE=https://api.mistral.ai/v1\n",
    "OPENAI_MODEL_NAME=\"mistral-small\"\n",
    "```"
   ]
  },
  {
   "cell_type": "markdown",
   "metadata": {},
   "source": [
    "#### Cohere\n",
    "\n",
    "```Python\n",
    "from langchain_community.chat_models import ChatCohere\n",
    "# Initialize language model\n",
    "os.environ[\"COHERE_API_KEY\"] = \"your-cohere-api-key\"\n",
    "llm = ChatCohere()\n",
    "\n",
    "### you will pass \"llm\" to your agent function\n",
    "```"
   ]
  },
  {
   "cell_type": "markdown",
   "metadata": {},
   "source": [
    "### For using Llama locally with Ollama and more, checkout the crewAI documentation on [Connecting to any LLM](https://docs.crewai.com/how-to/LLM-Connections/)."
   ]
  },
  {
   "cell_type": "code",
   "execution_count": null,
   "metadata": {
    "height": 30
   },
   "outputs": [],
   "source": []
  },
  {
   "cell_type": "code",
   "execution_count": null,
   "metadata": {
    "height": 30
   },
   "outputs": [],
   "source": []
  },
  {
   "cell_type": "code",
   "execution_count": null,
   "metadata": {
    "height": 30
   },
   "outputs": [],
   "source": []
  }
 ],
 "metadata": {
  "colab": {
   "gpuType": "T4",
   "provenance": []
  },
  "kernelspec": {
   "display_name": "Python 3 (ipykernel)",
   "language": "python",
   "name": "python3"
  },
  "language_info": {
   "codemirror_mode": {
    "name": "ipython",
    "version": 3
   },
   "file_extension": ".py",
   "mimetype": "text/x-python",
   "name": "python",
   "nbconvert_exporter": "python",
   "pygments_lexer": "ipython3",
   "version": "3.11.9"
  }
 },
 "nbformat": 4,
 "nbformat_minor": 4
}
