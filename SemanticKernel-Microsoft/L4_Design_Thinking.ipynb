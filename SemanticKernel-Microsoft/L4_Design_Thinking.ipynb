{
 "cells": [
  {
   "cell_type": "markdown",
   "metadata": {},
   "source": [
    "# 🧑‍🍳 L4 - Frozen dinner: \u000b",
    "The design thinking meal"
   ]
  },
  {
   "cell_type": "markdown",
   "metadata": {},
   "source": [
    "Inventory:\n",
    "\n",
    "1. Kernel\n",
    "2. Semantic (and Native) functions -- you can do a lot with these\n",
    "3. BusinessThinking plugin --> SWOTs in ways you could never imagine\n",
    "4. DesignThinking plugin ... Here you are"
   ]
  },
  {
   "cell_type": "markdown",
   "metadata": {},
   "source": [
    "# 🔥 Get a kernel ready"
   ]
  },
  {
   "cell_type": "code",
   "execution_count": 1,
   "metadata": {
    "height": 300
   },
   "outputs": [
    {
     "name": "stdout",
     "output_type": "stream",
     "text": [
      "A kernel is now ready.\n"
     ]
    }
   ],
   "source": [
    "import semantic_kernel as sk\n",
    "from semantic_kernel.connectors.ai.open_ai import AzureChatCompletion, OpenAIChatCompletion\n",
    "from IPython.display import display, Markdown\n",
    "\n",
    "kernel = sk.Kernel()\n",
    "\n",
    "useAzureOpenAI = False\n",
    "\n",
    "if useAzureOpenAI:\n",
    "    deployment, api_key, endpoint = sk.azure_openai_settings_from_dot_env()\n",
    "    kernel.add_text_completion_service(\"azureopenai\", AzureChatCompletion(deployment, endpoint, api_key))\n",
    "else:\n",
    "    api_key, org_id = sk.openai_settings_from_dot_env()\n",
    "    kernel.add_text_completion_service(\"openai\", OpenAIChatCompletion(\"gpt-3.5-turbo-0301\", api_key, org_id))\n",
    "\n",
    "print(\"A kernel is now ready.\")    "
   ]
  },
  {
   "cell_type": "markdown",
   "metadata": {},
   "source": [
    "## 🏁 Let's start backwards from the customer\n",
    "\n",
    "```directory\n",
    "plugins-sk/\n",
    "│\n",
    "└─── DesignThinking/\n",
    "     |\n",
    "     └─── Define/\n",
    "     |    └─── config.json\n",
    "     |    └─── skprompt.txt\n",
    "     |\n",
    "     └─── Empathize/\n",
    "          └─── config.json\n",
    "          └─── skprompt.txt\n",
    "\n",
    "```"
   ]
  },
  {
   "cell_type": "code",
   "execution_count": 2,
   "metadata": {
    "height": 589
   },
   "outputs": [
    {
     "data": {
      "text/markdown": [
       "## ✨ The categorized observations from the 'Empathize' phase of design thinking\n"
      ],
      "text/plain": [
       "<IPython.core.display.Markdown object>"
      ]
     },
     "metadata": {},
     "output_type": "display_data"
    },
    {
     "name": "stdout",
     "output_type": "stream",
     "text": [
      "[\n",
      "  {\n",
      "    \"sentiment\": \"Negative\",\n",
      "    \"summary\": \"Complaints about the appearance and cleanliness of the restaurant\"\n",
      "  },\n",
      "  {\n",
      "    \"sentiment\": \"Positive\",\n",
      "    \"summary\": \"Praise for the garlic pizza\"\n",
      "  },\n",
      "  {\n",
      "    \"sentiment\": \"Negative\",\n",
      "    \"summary\": \"Frustration with the turnover of inexperienced servers\"\n",
      "  },\n",
      "  {\n",
      "    \"sentiment\": \"Neutral\",\n",
      "    \"summary\": \"Questioning the absence of calzones\"\n",
      "  },\n",
      "  {\n",
      "    \"sentiment\": \"Negative\",\n",
      "    \"summary\": \"Concerns about the cost and lack of online ordering\"\n",
      "  }\n",
      "]\n"
     ]
    }
   ],
   "source": [
    "import json\n",
    "\n",
    "pluginsDirectory = \"./plugins-sk\"\n",
    "\n",
    "strength_questions = [\"What unique recipes or ingredients does the pizza shop use?\",\"What are the skills and experience of the staff?\",\"Does the pizza shop have a strong reputation in the local area?\",\"Are there any unique features of the shop or its location that attract customers?\", \"Does the pizza shop have a strong reputation in the local area?\", \"Are there any unique features of the shop or its location that attract customers?\"]\n",
    "weakness_questions = [\"What are the operational challenges of the pizza shop? (e.g., slow service, high staff turnover)\",\"Are there financial constraints that limit growth or improvements?\",\"Are there any gaps in the product offering?\",\"Are there customer complaints or negative reviews that need to be addressed?\"]\n",
    "opportunities_questions = [\"Is there potential for new products or services (e.g., catering, delivery)?\",\"Are there under-served customer segments or market areas?\",\"Can new technologies or systems enhance the business operations?\",\"Are there partnerships or local events that can be leveraged for marketing?\"]\n",
    "threats_questions = [\"Who are the major competitors and what are they offering?\",\"Are there potential negative impacts due to changes in the local area (e.g., construction, closure of nearby businesses)?\",\"Are there economic or industry trends that could impact the business negatively (e.g., increased ingredient costs)?\",\"Is there any risk due to changes in regulations or legislation (e.g., health and safety, employment)?\"]\n",
    "\n",
    "strengths = [ \"Unique garlic pizza recipe that wins top awards\",\"Owner trained in Sicily\",\"Strong local reputation\",\"Prime location on university campus\" ]\n",
    "weaknesses = [ \"High staff turnover\",\"Floods in the area damaged the seating areas that are in need of repair\",\"Absence of popular calzones from menu\",\"Negative reviews from younger demographic for lack of hip ingredients\" ]\n",
    "opportunities = [ \"Untapped catering potential\",\"Growing local tech startup community\",\"Unexplored online presence and order capabilities\",\"Upcoming annual food fair\" ]\n",
    "threats = [ \"Competition from cheaper pizza businesses nearby\",\"There's nearby street construction that will impact foot traffic\",\"Rising cost of cheese will increase the cost of pizzas\",\"No immediate local regulatory changes but it's election season\" ]\n",
    "\n",
    "customer_comments = \"\"\"\n",
    "Customer 1: The seats look really raggedy.\n",
    "Customer 2: The garlic pizza is the best on this earth.\n",
    "Customer 3: I've noticed that there's a new server every time I visit, and they're clueless.\n",
    "Customer 4: Why aren't there calzones?\n",
    "Customer 5: I love the garlic pizza and can't get it anywhere else.\n",
    "Customer 6: The garlic pizza is exceptional.\n",
    "Customer 7: I prefer a calzone's portable nature as compared with pizza.\n",
    "Customer 8: Why is the pizza so expensive?\n",
    "Customer 9: There's no way to do online ordering.\n",
    "Customer 10: Why is the seating so uncomfortable and dirty?\n",
    "\"\"\"\n",
    "\n",
    "pluginDT = kernel.import_semantic_skill_from_directory(pluginsDirectory, \"DesignThinking\");\n",
    "my_result = await kernel.run_async(pluginDT[\"Empathize\"], input_str=customer_comments)\n",
    "\n",
    "display(Markdown(\"## ✨ The categorized observations from the 'Empathize' phase of design thinking\\n\"))\n",
    "\n",
    "print(json.dumps(json.loads(str(my_result)), indent=2))"
   ]
  },
  {
   "cell_type": "markdown",
   "metadata": {},
   "source": [
    "![](./assets/designthinking.png)\n"
   ]
  },
  {
   "cell_type": "markdown",
   "metadata": {},
   "source": [
    "**Note:** LLMs do not necessarily produce the same result each time. Your results may be different than the video."
   ]
  },
  {
   "cell_type": "code",
   "execution_count": 3,
   "metadata": {
    "height": 79
   },
   "outputs": [
    {
     "data": {
      "text/markdown": [
       "## ✨ The categorized observations from the 'Empathize' + 'Define' phases of design thinking\n",
       "| Analysis | Definition | Possible Source |\n",
       "| --- | --- | --- |\n",
       "| Complaints about seating and cleanliness | Customers express dissatisfaction with the condition of the seats and the cleanliness of the restaurant. | Poor maintenance and cleaning practices, lack of attention to detail by staff |\n",
       "| Praise for garlic pizza | Customers express positive feedback for the garlic pizza, which is considered exceptional and the best on earth. | High quality ingredients, skilled chefs, unique recipe |\n",
       "| Frustration with server turnover and knowledge | Customers express frustration with the high turnover rate of servers and their lack of knowledge. | Inadequate training, low employee morale, poor management practices |\n",
       "| Questioning absence of calzones and high pizza prices | Customers question the absence of calzones and the high price of the pizza. | Menu choices and pricing strategies set by management |\n",
       "| Disappointment with lack of online ordering and uncomfortable seating | Customers express disappointment with the lack of online ordering and uncomfortable seating. | Outdated technology, lack of investment in comfortable seating, poor customer experience design |"
      ],
      "text/plain": [
       "<IPython.core.display.Markdown object>"
      ]
     },
     "metadata": {},
     "output_type": "display_data"
    }
   ],
   "source": [
    "my_result = await kernel.run_async(pluginDT[\"Empathize\"], pluginDT[\"Define\"], input_str = customer_comments)\n",
    "\n",
    "display(Markdown(\"## ✨ The categorized observations from the 'Empathize' + 'Define' phases of design thinking\\n\"+str(my_result)))"
   ]
  },
  {
   "cell_type": "code",
   "execution_count": 4,
   "metadata": {
    "height": 79
   },
   "outputs": [
    {
     "data": {
      "text/markdown": [
       "## ✨ The categorized observations from the 'Empathize' + 'Define' + 'Ideate' + 'Prototype' + phases of design thinking\n",
       "1. Implement a daily cleaning checklist for staff: Create a simple checklist with tasks such as wiping down tables, sweeping floors, and cleaning bathrooms. Print out multiple copies and distribute them to all staff members. Have them check off each task as they complete it throughout the day.\n",
       "\n",
       "2. Offer a discount for customers who leave positive reviews online: Create a small card or flyer to include with the check at the end of the meal. The card should include instructions for leaving a review and a discount code to use on their next visit. Test with a small group of customers and track the number of reviews received and the redemption rate of the discount code.\n",
       "\n",
       "3. Provide additional training for servers on menu items and customer service: Create a training manual or guide that covers menu items, customer service techniques, and common scenarios that servers may encounter. Test with a small group of servers and evaluate their performance before and after the training.\n",
       "\n",
       "4. Add a garlic pizza special to the menu: Create a mock-up of the new menu item with a description and price. Print out multiple copies and distribute them to customers during the testing period. Track the number of orders for the new item and gather feedback on taste and presentation.\n",
       "\n",
       "5. Create a rotating selection of seasonal calzones: Create a calendar or schedule of the seasonal calzones and their ingredients. Print out multiple copies and display them in the restaurant or on the website. Test with a small group of customers and gather feedback on taste and presentation.\n",
       "\n",
       "6. Offer online ordering through the restaurant's website: Create a simple website with an online ordering system. Test with a small group of customers and evaluate the ease of use and accuracy of orders.\n",
       "\n",
       "7. Host a customer appreciation night with free appetizers and drinks: Create a flyer or invitation to distribute to customers. The flyer should include the date, time, and details of the event. Test with a small group of customers and evaluate the turnout and feedback.\n",
       "\n",
       "8. Provide complimentary bread and dipping oil with every meal: Create a small card or flyer to include with the check at the end of the meal. The card should explain the new policy and thank the customer for their business. Test with a small group of customers and evaluate their response.\n",
       "\n",
       "9. Create a social media presence to engage with customers and promote specials: Create social media accounts for the restaurant and post updates, specials, and engaging content. Test with a small group of customers and evaluate their engagement and feedback.\n",
       "\n",
       "10. Implement a recycling program to reduce waste and improve sustainability: Create a recycling bin or station in the restaurant and provide clear instructions for staff and customers. Test with a small group of customers and evaluate the amount of waste diverted from the landfill."
      ],
      "text/plain": [
       "<IPython.core.display.Markdown object>"
      ]
     },
     "metadata": {},
     "output_type": "display_data"
    }
   ],
   "source": [
    "my_result = await kernel.run_async(pluginDT[\"Empathize\"], pluginDT[\"Define\"], pluginDT[\"Ideate\"], pluginDT[\"PrototypeWithPaper\"], input_str=customer_comments)\n",
    "\n",
    "display(Markdown(\"## ✨ The categorized observations from the 'Empathize' + 'Define' + 'Ideate' + 'Prototype' + phases of design thinking\\n\"+str(my_result)))"
   ]
  },
  {
   "cell_type": "code",
   "execution_count": 5,
   "metadata": {
    "height": 368
   },
   "outputs": [
    {
     "data": {
      "text/markdown": [
       "### ✨ As an AI language model, I cannot predict the exact reactions of the 40-year old man in this scenario. However, some possible reactions could be:\n",
       "\n",
       "- They might feel indifferent and not care about the loyalty card.\n",
       "- They might feel annoyed or frustrated that they have to keep track of points and rewards.\n",
       "- They might feel intrigued and motivated to earn rewards by visiting the bar more often.\n",
       "- They might feel grateful and appreciated for being offered a loyalty program.\n",
       "- They might feel skeptical and wonder if the rewards are worth the effort.\n",
       "- They might feel confused or overwhelmed by the details of the loyalty card and need clarification."
      ],
      "text/plain": [
       "<IPython.core.display.Markdown object>"
      ]
     },
     "metadata": {},
     "output_type": "display_data"
    }
   ],
   "source": [
    "sk_prompt = \"\"\"\n",
    "A 40-year old man who has just finished his shift at work and comes into the bar. They are in a bad mood.\n",
    "\n",
    "They are given an experience like:\n",
    "{{$input}}\n",
    "\n",
    "Summarize their possible reactions to this experience.\n",
    "\"\"\"\n",
    "test_function = kernel.create_semantic_function(prompt_template=sk_prompt,\n",
    "                                                    description=\"Simulates reaction to an experience.\",\n",
    "                                                    max_tokens=1000,\n",
    "                                                    temperature=0.1,\n",
    "                                                    top_p=0.5)\n",
    "sk_input=\"\"\"\n",
    "A simple loyalty card that includes details such as the rewards for each level of loyalty, how to earn points, and how to redeem rewards is given to every person visiting the bar.\n",
    "\"\"\"\n",
    "\n",
    "test_result = await kernel.run_async(test_function, input_str=sk_input) \n",
    "\n",
    "display(Markdown(\"### ✨ \" + str(test_result)))"
   ]
  },
  {
   "cell_type": "markdown",
   "metadata": {},
   "source": [
    "## 🔖 Reminder: We haven't explicitly used the 🧲 similarity engine — we'll be doing that next! \n",
    "\n",
    "![](./assets/twodimensions.png)"
   ]
  },
  {
   "cell_type": "code",
   "execution_count": null,
   "metadata": {
    "height": 30
   },
   "outputs": [],
   "source": []
  }
 ],
 "metadata": {
  "kernelspec": {
   "display_name": "Python 3 (ipykernel)",
   "language": "python",
   "name": "python3"
  },
  "language_info": {
   "codemirror_mode": {
    "name": "ipython",
    "version": 3
   },
   "file_extension": ".py",
   "mimetype": "text/x-python",
   "name": "python",
   "nbconvert_exporter": "python",
   "pygments_lexer": "ipython3",
   "version": "3.9.19"
  }
 },
 "nbformat": 4,
 "nbformat_minor": 4
}
