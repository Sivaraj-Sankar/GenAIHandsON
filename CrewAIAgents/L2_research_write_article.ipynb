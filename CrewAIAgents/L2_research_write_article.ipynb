{
 "cells": [
  {
   "cell_type": "markdown",
   "metadata": {},
   "source": [
    "You can download the `requirements.txt` for this course from the workspace of this lab. `File --> Open...`"
   ]
  },
  {
   "cell_type": "markdown",
   "metadata": {},
   "source": [
    "# L2: Create Agents to Research and Write an Article\n",
    "\n",
    "In this lesson, you will be introduced to the foundational concepts of multi-agent systems and get an overview of the crewAI framework."
   ]
  },
  {
   "cell_type": "markdown",
   "metadata": {},
   "source": [
    "The libraries are already installed in the classroom. If you're running this notebook on your own machine, you can install the following:\n",
    "```Python\n",
    "!pip install crewai==0.28.8 crewai_tools==0.1.6 langchain_community==0.0.29\n",
    "```"
   ]
  },
  {
   "cell_type": "code",
   "execution_count": 1,
   "metadata": {
    "height": 64
   },
   "outputs": [],
   "source": [
    "# Warning control\n",
    "import warnings\n",
    "warnings.filterwarnings('ignore')"
   ]
  },
  {
   "cell_type": "markdown",
   "metadata": {},
   "source": [
    "- Import from the crewAI libray."
   ]
  },
  {
   "cell_type": "code",
   "execution_count": 2,
   "metadata": {
    "height": 30
   },
   "outputs": [],
   "source": [
    "from crewai import Agent, Task, Crew"
   ]
  },
  {
   "cell_type": "markdown",
   "metadata": {},
   "source": [
    "- As a LLM for your agents, you'll be using OpenAI's `gpt-3.5-turbo`.\n",
    "\n",
    "**Optional Note:** crewAI also allow other popular models to be used as a LLM for your Agents. You can see some of the examples at the [bottom of the notebook](#1)."
   ]
  },
  {
   "cell_type": "code",
   "execution_count": 3,
   "metadata": {
    "height": 98
   },
   "outputs": [],
   "source": [
    "import os\n",
    "from utils import get_openai_api_key\n",
    "\n",
    "openai_api_key = get_openai_api_key()\n",
    "os.environ[\"OPENAI_MODEL_NAME\"] = 'gpt-3.5-turbo'"
   ]
  },
  {
   "cell_type": "markdown",
   "metadata": {},
   "source": [
    "## Creating Agents\n",
    "\n",
    "- Define your Agents, and provide them a `role`, `goal` and `backstory`.\n",
    "- It has been seen that LLMs perform better when they are role playing."
   ]
  },
  {
   "cell_type": "markdown",
   "metadata": {},
   "source": [
    "### Agent: Planner\n",
    "\n",
    "**Note**: The benefit of using _multiple strings_ :\n",
    "```Python\n",
    "varname = \"line 1 of text\"\n",
    "          \"line 2 of text\"\n",
    "```\n",
    "\n",
    "versus the _triple quote docstring_:\n",
    "```Python\n",
    "varname = \"\"\"line 1 of text\n",
    "             line 2 of text\n",
    "          \"\"\"\n",
    "```\n",
    "is that it can avoid adding those whitespaces and newline characters, making it better formatted to be passed to the LLM."
   ]
  },
  {
   "cell_type": "code",
   "execution_count": 4,
   "metadata": {
    "height": 249
   },
   "outputs": [],
   "source": [
    "planner = Agent(\n",
    "    role=\"Content Planner\",\n",
    "    goal=\"Plan engaging and factually accurate content on {topic}\",\n",
    "    backstory=\"You're working on planning a blog article \"\n",
    "              \"about the topic: {topic}.\"\n",
    "              \"You collect information that helps the \"\n",
    "              \"audience learn something \"\n",
    "              \"and make informed decisions. \"\n",
    "              \"Your work is the basis for \"\n",
    "              \"the Content Writer to write an article on this topic.\",\n",
    "    allow_delegation=False,\n",
    "\tverbose=True\n",
    ")"
   ]
  },
  {
   "cell_type": "markdown",
   "metadata": {},
   "source": [
    "### Agent: Writer"
   ]
  },
  {
   "cell_type": "code",
   "execution_count": 5,
   "metadata": {
    "height": 385
   },
   "outputs": [],
   "source": [
    "writer = Agent(\n",
    "    role=\"Content Writer\",\n",
    "    goal=\"Write insightful and factually accurate \"\n",
    "         \"opinion piece about the topic: {topic}\",\n",
    "    backstory=\"You're working on a writing \"\n",
    "              \"a new opinion piece about the topic: {topic}. \"\n",
    "              \"You base your writing on the work of \"\n",
    "              \"the Content Planner, who provides an outline \"\n",
    "              \"and relevant context about the topic. \"\n",
    "              \"You follow the main objectives and \"\n",
    "              \"direction of the outline, \"\n",
    "              \"as provide by the Content Planner. \"\n",
    "              \"You also provide objective and impartial insights \"\n",
    "              \"and back them up with information \"\n",
    "              \"provide by the Content Planner. \"\n",
    "              \"You acknowledge in your opinion piece \"\n",
    "              \"when your statements are opinions \"\n",
    "              \"as opposed to objective statements.\",\n",
    "    allow_delegation=False,\n",
    "    verbose=True\n",
    ")"
   ]
  },
  {
   "cell_type": "markdown",
   "metadata": {},
   "source": [
    "### Agent: Editor"
   ]
  },
  {
   "cell_type": "code",
   "execution_count": 6,
   "metadata": {
    "height": 283
   },
   "outputs": [],
   "source": [
    "editor = Agent(\n",
    "    role=\"Editor\",\n",
    "    goal=\"Edit a given blog post to align with \"\n",
    "         \"the writing style of the organization. \",\n",
    "    backstory=\"You are an editor who receives a blog post \"\n",
    "              \"from the Content Writer. \"\n",
    "              \"Your goal is to review the blog post \"\n",
    "              \"to ensure that it follows journalistic best practices,\"\n",
    "              \"provides balanced viewpoints \"\n",
    "              \"when providing opinions or assertions, \"\n",
    "              \"and also avoids major controversial topics \"\n",
    "              \"or opinions when possible.\",\n",
    "    allow_delegation=False,\n",
    "    verbose=True\n",
    ")"
   ]
  },
  {
   "cell_type": "markdown",
   "metadata": {},
   "source": [
    "## Creating Tasks\n",
    "\n",
    "- Define your Tasks, and provide them a `description`, `expected_output` and `agent`."
   ]
  },
  {
   "cell_type": "markdown",
   "metadata": {},
   "source": [
    "### Task: Plan"
   ]
  },
  {
   "cell_type": "code",
   "execution_count": 8,
   "metadata": {
    "height": 283
   },
   "outputs": [],
   "source": [
    "plan = Task(\n",
    "    description=(\n",
    "        \"1. Prioritize the latest trends, key players, \"\n",
    "            \"and noteworthy news on {topic}.\\n\"\n",
    "        \"2. Identify the target audience, considering \"\n",
    "            \"their interests and pain points.\\n\"\n",
    "        \"3. Develop a detailed content outline including \"\n",
    "            \"an introduction, key points, and a call to action.\\n\"\n",
    "        \"4. Include SEO keywords and relevant data or sources.\"\n",
    "    ),\n",
    "    expected_output=\"A comprehensive content plan document \"\n",
    "        \"with an outline, audience analysis, \"\n",
    "        \"SEO keywords, and resources.\",\n",
    "    agent=planner,\n",
    ")"
   ]
  },
  {
   "cell_type": "markdown",
   "metadata": {},
   "source": [
    "### Task: Write"
   ]
  },
  {
   "cell_type": "code",
   "execution_count": 9,
   "metadata": {
    "height": 319
   },
   "outputs": [],
   "source": [
    "write = Task(\n",
    "    description=(\n",
    "        \"1. Use the content plan to craft a compelling \"\n",
    "            \"blog post on {topic}.\\n\"\n",
    "        \"2. Incorporate SEO keywords naturally.\\n\"\n",
    "\t\t\"3. Sections/Subtitles are properly named \"\n",
    "            \"in an engaging manner.\\n\"\n",
    "        \"4. Ensure the post is structured with an \"\n",
    "            \"engaging introduction, insightful body, \"\n",
    "            \"and a summarizing conclusion.\\n\"\n",
    "        \"5. Proofread for grammatical errors and \"\n",
    "            \"alignment with the brand's voice.\\n\"\n",
    "    ),\n",
    "    expected_output=\"A well-written blog post \"\n",
    "        \"in markdown format, ready for publication, \"\n",
    "        \"each section should have 2 or 3 paragraphs.\",\n",
    "    agent=writer,\n",
    ")"
   ]
  },
  {
   "cell_type": "markdown",
   "metadata": {},
   "source": [
    "### Task: Edit"
   ]
  },
  {
   "cell_type": "code",
   "execution_count": 10,
   "metadata": {
    "height": 181
   },
   "outputs": [],
   "source": [
    "edit = Task(\n",
    "    description=(\"Proofread the given blog post for \"\n",
    "                 \"grammatical errors and \"\n",
    "                 \"alignment with the brand's voice.\"),\n",
    "    expected_output=\"A well-written blog post in markdown format, \"\n",
    "                    \"ready for publication, \"\n",
    "                    \"each section should have 2 or 3 paragraphs.\",\n",
    "    agent=editor\n",
    ")"
   ]
  },
  {
   "cell_type": "markdown",
   "metadata": {},
   "source": [
    "## Creating the Crew\n",
    "\n",
    "- Create your crew of Agents\n",
    "- Pass the tasks to be performed by those agents.\n",
    "    - **Note**: *For this simple example*, the tasks will be performed sequentially (i.e they are dependent on each other), so the _order_ of the task in the list _matters_.\n",
    "- `verbose=2` allows you to see all the logs of the execution. "
   ]
  },
  {
   "cell_type": "code",
   "execution_count": 11,
   "metadata": {
    "height": 98
   },
   "outputs": [],
   "source": [
    "crew = Crew(\n",
    "    agents=[planner, writer, editor],\n",
    "    tasks=[plan, write, edit],\n",
    "    verbose=2\n",
    ")"
   ]
  },
  {
   "cell_type": "markdown",
   "metadata": {},
   "source": [
    "## Running the Crew"
   ]
  },
  {
   "cell_type": "markdown",
   "metadata": {},
   "source": [
    "**Note**: LLMs can provide different outputs for they same input, so what you get might be different than what you see in the video."
   ]
  },
  {
   "cell_type": "code",
   "execution_count": 12,
   "metadata": {
    "height": 45
   },
   "outputs": [
    {
     "name": "stdout",
     "output_type": "stream",
     "text": [
      "\u001b[1m\u001b[95m [DEBUG]: == Working Agent: Content Planner\u001b[00m\n",
      "\u001b[1m\u001b[95m [INFO]: == Starting Task: 1. Prioritize the latest trends, key players, and noteworthy news on Artificial Intelligence.\n",
      "2. Identify the target audience, considering their interests and pain points.\n",
      "3. Develop a detailed content outline including an introduction, key points, and a call to action.\n",
      "4. Include SEO keywords and relevant data or sources.\u001b[00m\n",
      "\n",
      "\n",
      "\u001b[1m> Entering new CrewAgentExecutor chain...\u001b[0m\n",
      "\u001b[32;1m\u001b[1;3mI now can give a great answer\n",
      "\n",
      "Final Answer: \n",
      "\n",
      "Content Plan for Blog Article on Artificial Intelligence\n",
      "\n",
      "Outline:\n",
      "\n",
      "I. Introduction\n",
      "- Definition of Artificial Intelligence\n",
      "- Importance of AI in various industries\n",
      "- Brief overview of the latest trends in AI\n",
      "\n",
      "II. Latest Trends in Artificial Intelligence\n",
      "- Machine Learning advancements\n",
      "- Natural Language Processing developments\n",
      "- Robotics and Automation innovations\n",
      "- AI in healthcare, finance, and other sectors\n",
      "\n",
      "III. Key Players in the AI Industry\n",
      "- Google\n",
      "- IBM\n",
      "- Amazon\n",
      "- Microsoft\n",
      "- Tesla\n",
      "- Facebook\n",
      "\n",
      "IV. Noteworthy News on Artificial Intelligence\n",
      "- Recent breakthroughs in AI research\n",
      "- AI applications in solving real-world problems\n",
      "- Ethical considerations in AI development\n",
      "\n",
      "V. Target Audience Analysis\n",
      "- Professionals in the technology sector\n",
      "- Business owners looking to implement AI solutions\n",
      "- Students and researchers interested in AI\n",
      "- General audience curious about the impact of AI on society\n",
      "\n",
      "VI. SEO Keywords\n",
      "- Artificial Intelligence trends 2021\n",
      "- Top AI companies\n",
      "- AI news updates\n",
      "- Impact of AI on industries\n",
      "- Ethical AI development\n",
      "\n",
      "VII. Resources\n",
      "- Forbes article on AI trends\n",
      "- Gartner report on AI market\n",
      "- TechCrunch news on AI innovations\n",
      "- TED Talks on AI ethics\n",
      "- Research papers on AI advancements\n",
      "\n",
      "Call to Action: Stay informed about the latest developments in Artificial Intelligence by subscribing to our newsletter for regular updates.\n",
      "\n",
      "This comprehensive content plan will help guide the Content Writer in creating an engaging and informative blog article on Artificial Intelligence that resonates with the target audience and addresses their interests and pain points.\u001b[0m\n",
      "\n",
      "\u001b[1m> Finished chain.\u001b[0m\n",
      "\u001b[1m\u001b[92m [DEBUG]: == [Content Planner] Task output: Content Plan for Blog Article on Artificial Intelligence\n",
      "\n",
      "Outline:\n",
      "\n",
      "I. Introduction\n",
      "- Definition of Artificial Intelligence\n",
      "- Importance of AI in various industries\n",
      "- Brief overview of the latest trends in AI\n",
      "\n",
      "II. Latest Trends in Artificial Intelligence\n",
      "- Machine Learning advancements\n",
      "- Natural Language Processing developments\n",
      "- Robotics and Automation innovations\n",
      "- AI in healthcare, finance, and other sectors\n",
      "\n",
      "III. Key Players in the AI Industry\n",
      "- Google\n",
      "- IBM\n",
      "- Amazon\n",
      "- Microsoft\n",
      "- Tesla\n",
      "- Facebook\n",
      "\n",
      "IV. Noteworthy News on Artificial Intelligence\n",
      "- Recent breakthroughs in AI research\n",
      "- AI applications in solving real-world problems\n",
      "- Ethical considerations in AI development\n",
      "\n",
      "V. Target Audience Analysis\n",
      "- Professionals in the technology sector\n",
      "- Business owners looking to implement AI solutions\n",
      "- Students and researchers interested in AI\n",
      "- General audience curious about the impact of AI on society\n",
      "\n",
      "VI. SEO Keywords\n",
      "- Artificial Intelligence trends 2021\n",
      "- Top AI companies\n",
      "- AI news updates\n",
      "- Impact of AI on industries\n",
      "- Ethical AI development\n",
      "\n",
      "VII. Resources\n",
      "- Forbes article on AI trends\n",
      "- Gartner report on AI market\n",
      "- TechCrunch news on AI innovations\n",
      "- TED Talks on AI ethics\n",
      "- Research papers on AI advancements\n",
      "\n",
      "Call to Action: Stay informed about the latest developments in Artificial Intelligence by subscribing to our newsletter for regular updates.\n",
      "\n",
      "This comprehensive content plan will help guide the Content Writer in creating an engaging and informative blog article on Artificial Intelligence that resonates with the target audience and addresses their interests and pain points.\n",
      "\n",
      "\u001b[00m\n",
      "\u001b[1m\u001b[95m [DEBUG]: == Working Agent: Content Writer\u001b[00m\n",
      "\u001b[1m\u001b[95m [INFO]: == Starting Task: 1. Use the content plan to craft a compelling blog post on Artificial Intelligence.\n",
      "2. Incorporate SEO keywords naturally.\n",
      "3. Sections/Subtitles are properly named in an engaging manner.\n",
      "4. Ensure the post is structured with an engaging introduction, insightful body, and a summarizing conclusion.\n",
      "5. Proofread for grammatical errors and alignment with the brand's voice.\n",
      "\u001b[00m\n",
      "\n",
      "\n",
      "\u001b[1m> Entering new CrewAgentExecutor chain...\u001b[0m\n",
      "\u001b[32;1m\u001b[1;3mI now can give a great answer\n",
      "\n",
      "Final Answer:\n",
      "\n",
      "# The Rise of Artificial Intelligence: Exploring Trends and Innovations\n",
      "\n",
      "## Introduction\n",
      "\n",
      "Artificial Intelligence (AI) refers to the simulation of human intelligence processes by machines, especially computer systems. In recent years, AI has become increasingly prevalent across various industries, revolutionizing the way businesses operate and interact with customers. The significance of AI lies in its ability to analyze data, learn from patterns, and make decisions with minimal human intervention. As we delve into the latest trends in AI, it is essential to understand the impact of this technology on society and the potential it holds for the future.\n",
      "\n",
      "## Latest Trends in Artificial Intelligence\n",
      "\n",
      "### Machine Learning Advancements\n",
      "One of the most significant trends in AI is the advancement of machine learning algorithms. Machine learning enables computers to learn from data and improve their performance over time without being explicitly programmed. This technology is widely used in applications such as recommendation systems, predictive analytics, and autonomous vehicles.\n",
      "\n",
      "### Natural Language Processing Developments\n",
      "Natural Language Processing (NLP) focuses on enabling computers to understand, interpret, and generate human language. Recent developments in NLP have led to significant improvements in chatbots, language translation, and sentiment analysis. NLP plays a crucial role in enhancing communication between humans and machines.\n",
      "\n",
      "### Robotics and Automation Innovations\n",
      "Robotics and automation are integral components of AI, with advancements in these fields transforming industries such as manufacturing, logistics, and healthcare. Collaborative robots, known as cobots, are designed to work alongside humans, enhancing efficiency and productivity in various work environments.\n",
      "\n",
      "### AI in Healthcare, Finance, and Other Sectors\n",
      "AI is making waves in sectors such as healthcare and finance, where it is used for tasks such as disease diagnosis, personalized treatment plans, fraud detection, and risk assessment. The integration of AI in these industries has the potential to improve patient outcomes, streamline processes, and enhance decision-making.\n",
      "\n",
      "## Key Players in the AI Industry\n",
      "\n",
      "The AI industry is dominated by key players such as Google, IBM, Amazon, Microsoft, Tesla, and Facebook. These companies are at the forefront of AI research and development, driving innovation and shaping the future of technology. From self-driving cars to virtual assistants, these industry giants are constantly pushing the boundaries of what AI can achieve.\n",
      "\n",
      "## Noteworthy News on Artificial Intelligence\n",
      "\n",
      "Recent breakthroughs in AI research have paved the way for exciting applications in solving real-world problems. From autonomous drones for disaster relief to AI-powered chatbots for customer service, the potential of AI to address societal challenges is limitless. However, ethical considerations in AI development remain a crucial aspect that requires careful attention to ensure that AI systems are built and deployed responsibly.\n",
      "\n",
      "## Target Audience Analysis\n",
      "\n",
      "Professionals in the technology sector, business owners looking to implement AI solutions, students and researchers interested in AI, and the general audience curious about the impact of AI on society are all part of the target audience for AI-related content. By staying informed about the latest developments in AI, individuals can gain valuable insights into the opportunities and challenges presented by this transformative technology.\n",
      "\n",
      "## Conclusion\n",
      "\n",
      "As we navigate the ever-evolving landscape of AI, it is essential to stay informed about the latest trends, innovations, and ethical considerations in the field. By exploring the impact of AI on industries and society, we can harness the full potential of this technology while addressing potential risks and challenges. Subscribe to our newsletter for regular updates on the world of Artificial Intelligence and join us in shaping the future of technology.\n",
      "\n",
      "*Stay informed, stay ahead with Artificial Intelligence.*\n",
      "\n",
      "*SEO Keywords: Artificial Intelligence trends 2021, Top AI companies, AI news updates, Impact of AI on industries, Ethical AI development*\n",
      "\n",
      "Resources:\n",
      "- [Forbes article on AI trends](https://www.forbes.com/ai-trends)\n",
      "- [Gartner report on AI market](https://www.gartner.com/ai-market)\n",
      "- [TechCrunch news on AI innovations](https://www.techcrunch.com/ai-innovations)\n",
      "- [TED Talks on AI ethics](https://www.ted.com/ai-ethics)\n",
      "- Research papers on AI advancements\n",
      "\n",
      "Call to Action: Stay informed about the latest developments in Artificial Intelligence by subscribing to our newsletter for regular updates.\u001b[0m\n",
      "\n",
      "\u001b[1m> Finished chain.\u001b[0m\n",
      "\u001b[1m\u001b[92m [DEBUG]: == [Content Writer] Task output: # The Rise of Artificial Intelligence: Exploring Trends and Innovations\n",
      "\n",
      "## Introduction\n",
      "\n",
      "Artificial Intelligence (AI) refers to the simulation of human intelligence processes by machines, especially computer systems. In recent years, AI has become increasingly prevalent across various industries, revolutionizing the way businesses operate and interact with customers. The significance of AI lies in its ability to analyze data, learn from patterns, and make decisions with minimal human intervention. As we delve into the latest trends in AI, it is essential to understand the impact of this technology on society and the potential it holds for the future.\n",
      "\n",
      "## Latest Trends in Artificial Intelligence\n",
      "\n",
      "### Machine Learning Advancements\n",
      "One of the most significant trends in AI is the advancement of machine learning algorithms. Machine learning enables computers to learn from data and improve their performance over time without being explicitly programmed. This technology is widely used in applications such as recommendation systems, predictive analytics, and autonomous vehicles.\n",
      "\n",
      "### Natural Language Processing Developments\n",
      "Natural Language Processing (NLP) focuses on enabling computers to understand, interpret, and generate human language. Recent developments in NLP have led to significant improvements in chatbots, language translation, and sentiment analysis. NLP plays a crucial role in enhancing communication between humans and machines.\n",
      "\n",
      "### Robotics and Automation Innovations\n",
      "Robotics and automation are integral components of AI, with advancements in these fields transforming industries such as manufacturing, logistics, and healthcare. Collaborative robots, known as cobots, are designed to work alongside humans, enhancing efficiency and productivity in various work environments.\n",
      "\n",
      "### AI in Healthcare, Finance, and Other Sectors\n",
      "AI is making waves in sectors such as healthcare and finance, where it is used for tasks such as disease diagnosis, personalized treatment plans, fraud detection, and risk assessment. The integration of AI in these industries has the potential to improve patient outcomes, streamline processes, and enhance decision-making.\n",
      "\n",
      "## Key Players in the AI Industry\n",
      "\n",
      "The AI industry is dominated by key players such as Google, IBM, Amazon, Microsoft, Tesla, and Facebook. These companies are at the forefront of AI research and development, driving innovation and shaping the future of technology. From self-driving cars to virtual assistants, these industry giants are constantly pushing the boundaries of what AI can achieve.\n",
      "\n",
      "## Noteworthy News on Artificial Intelligence\n",
      "\n",
      "Recent breakthroughs in AI research have paved the way for exciting applications in solving real-world problems. From autonomous drones for disaster relief to AI-powered chatbots for customer service, the potential of AI to address societal challenges is limitless. However, ethical considerations in AI development remain a crucial aspect that requires careful attention to ensure that AI systems are built and deployed responsibly.\n",
      "\n",
      "## Target Audience Analysis\n",
      "\n",
      "Professionals in the technology sector, business owners looking to implement AI solutions, students and researchers interested in AI, and the general audience curious about the impact of AI on society are all part of the target audience for AI-related content. By staying informed about the latest developments in AI, individuals can gain valuable insights into the opportunities and challenges presented by this transformative technology.\n",
      "\n",
      "## Conclusion\n",
      "\n",
      "As we navigate the ever-evolving landscape of AI, it is essential to stay informed about the latest trends, innovations, and ethical considerations in the field. By exploring the impact of AI on industries and society, we can harness the full potential of this technology while addressing potential risks and challenges. Subscribe to our newsletter for regular updates on the world of Artificial Intelligence and join us in shaping the future of technology.\n",
      "\n",
      "*Stay informed, stay ahead with Artificial Intelligence.*\n",
      "\n",
      "*SEO Keywords: Artificial Intelligence trends 2021, Top AI companies, AI news updates, Impact of AI on industries, Ethical AI development*\n",
      "\n",
      "Resources:\n",
      "- [Forbes article on AI trends](https://www.forbes.com/ai-trends)\n",
      "- [Gartner report on AI market](https://www.gartner.com/ai-market)\n",
      "- [TechCrunch news on AI innovations](https://www.techcrunch.com/ai-innovations)\n",
      "- [TED Talks on AI ethics](https://www.ted.com/ai-ethics)\n",
      "- Research papers on AI advancements\n",
      "\n",
      "Call to Action: Stay informed about the latest developments in Artificial Intelligence by subscribing to our newsletter for regular updates.\n",
      "\n",
      "\u001b[00m\n",
      "\u001b[1m\u001b[95m [DEBUG]: == Working Agent: Editor\u001b[00m\n",
      "\u001b[1m\u001b[95m [INFO]: == Starting Task: Proofread the given blog post for grammatical errors and alignment with the brand's voice.\u001b[00m\n",
      "\n",
      "\n",
      "\u001b[1m> Entering new CrewAgentExecutor chain...\u001b[0m\n"
     ]
    },
    {
     "name": "stdout",
     "output_type": "stream",
     "text": [
      "\u001b[32;1m\u001b[1;3mI now can give a great answer\n",
      "\n",
      "Final Answer:\n",
      "# The Rise of Artificial Intelligence: Exploring Trends and Innovations\n",
      "\n",
      "## Introduction\n",
      "\n",
      "Artificial Intelligence (AI) has rapidly evolved in recent years, reshaping various industries and redefining the way businesses function. AI involves machines simulating human intelligence processes, particularly within computer systems. The impact of AI is profound, as it can analyze data, learn from patterns, and make decisions with minimal human intervention. This technology's potential for the future is immense, and understanding its current trends is crucial for staying ahead in a rapidly changing landscape.\n",
      "\n",
      "## Latest Trends in Artificial Intelligence\n",
      "\n",
      "### Machine Learning Advancements\n",
      "Machine learning stands out as a key trend in AI, allowing computers to enhance their performance over time without explicit programming. From recommendation systems to autonomous vehicles, machine learning is revolutionizing various applications by learning from data.\n",
      "\n",
      "### Natural Language Processing Developments\n",
      "The development of Natural Language Processing (NLP) has significantly improved communication between humans and machines. NLP focuses on computers' ability to understand, interpret, and generate human language, leading to advancements in chatbots, language translation, and sentiment analysis.\n",
      "\n",
      "### Robotics and Automation Innovations\n",
      "Robotics and automation are pivotal components of AI, transforming industries like manufacturing, logistics, and healthcare. Collaborative robots, or cobots, are enhancing efficiency and productivity by working alongside humans in various work environments.\n",
      "\n",
      "### AI in Healthcare, Finance, and Other Sectors\n",
      "AI's impact extends to sectors like healthcare and finance, where it aids in disease diagnosis, personalized treatment plans, fraud detection, and risk assessment. The integration of AI in these industries holds promise for improving patient outcomes, streamlining processes, and enhancing decision-making.\n",
      "\n",
      "## Key Players in the AI Industry\n",
      "\n",
      "Leading companies in the AI sector, including Google, IBM, Amazon, Microsoft, Tesla, and Facebook, are driving innovation and shaping the future of technology. These industry giants are constantly pushing boundaries, from self-driving cars to virtual assistants, showcasing the vast potential of AI.\n",
      "\n",
      "## Noteworthy News on Artificial Intelligence\n",
      "\n",
      "Recent breakthroughs in AI research have paved the way for practical applications in solving real-world problems, such as autonomous drones for disaster relief and AI-powered chatbots for customer service. However, ethical considerations in AI development are crucial to ensure responsible building and deployment of AI systems.\n",
      "\n",
      "## Target Audience Analysis\n",
      "\n",
      "Professionals in the technology sector, business owners seeking AI solutions, students and researchers interested in AI, and the general audience curious about AI's societal impact form the target audience for AI-related content. Staying informed about AI's latest developments provides valuable insights into the opportunities and challenges posed by this transformative technology.\n",
      "\n",
      "## Conclusion\n",
      "\n",
      "Navigating the evolving AI landscape requires staying informed about trends, innovations, and ethical considerations in the field. Understanding AI's impact on industries and society enables us to harness its full potential while addressing risks and challenges. Subscribe to our newsletter for regular updates on the world of Artificial Intelligence and join us in shaping the future of technology.\n",
      "\n",
      "*Stay informed, stay ahead with Artificial Intelligence.*\n",
      "\n",
      "*SEO Keywords: Artificial Intelligence trends 2021, Top AI companies, AI news updates, Impact of AI on industries, Ethical AI development*\n",
      "\n",
      "Resources:\n",
      "- [Forbes article on AI trends](https://www.forbes.com/ai-trends)\n",
      "- [Gartner report on AI market](https://www.gartner.com/ai-market)\n",
      "- [TechCrunch news on AI innovations](https://www.techcrunch.com/ai-innovations)\n",
      "- [TED Talks on AI ethics](https://www.ted.com/ai-ethics)\n",
      "- Research papers on AI advancements\n",
      "\n",
      "Call to Action: Stay informed about the latest developments in Artificial Intelligence by subscribing to our newsletter for regular updates.\u001b[0m\n",
      "\n",
      "\u001b[1m> Finished chain.\u001b[0m\n",
      "\u001b[1m\u001b[92m [DEBUG]: == [Editor] Task output: # The Rise of Artificial Intelligence: Exploring Trends and Innovations\n",
      "\n",
      "## Introduction\n",
      "\n",
      "Artificial Intelligence (AI) has rapidly evolved in recent years, reshaping various industries and redefining the way businesses function. AI involves machines simulating human intelligence processes, particularly within computer systems. The impact of AI is profound, as it can analyze data, learn from patterns, and make decisions with minimal human intervention. This technology's potential for the future is immense, and understanding its current trends is crucial for staying ahead in a rapidly changing landscape.\n",
      "\n",
      "## Latest Trends in Artificial Intelligence\n",
      "\n",
      "### Machine Learning Advancements\n",
      "Machine learning stands out as a key trend in AI, allowing computers to enhance their performance over time without explicit programming. From recommendation systems to autonomous vehicles, machine learning is revolutionizing various applications by learning from data.\n",
      "\n",
      "### Natural Language Processing Developments\n",
      "The development of Natural Language Processing (NLP) has significantly improved communication between humans and machines. NLP focuses on computers' ability to understand, interpret, and generate human language, leading to advancements in chatbots, language translation, and sentiment analysis.\n",
      "\n",
      "### Robotics and Automation Innovations\n",
      "Robotics and automation are pivotal components of AI, transforming industries like manufacturing, logistics, and healthcare. Collaborative robots, or cobots, are enhancing efficiency and productivity by working alongside humans in various work environments.\n",
      "\n",
      "### AI in Healthcare, Finance, and Other Sectors\n",
      "AI's impact extends to sectors like healthcare and finance, where it aids in disease diagnosis, personalized treatment plans, fraud detection, and risk assessment. The integration of AI in these industries holds promise for improving patient outcomes, streamlining processes, and enhancing decision-making.\n",
      "\n",
      "## Key Players in the AI Industry\n",
      "\n",
      "Leading companies in the AI sector, including Google, IBM, Amazon, Microsoft, Tesla, and Facebook, are driving innovation and shaping the future of technology. These industry giants are constantly pushing boundaries, from self-driving cars to virtual assistants, showcasing the vast potential of AI.\n",
      "\n",
      "## Noteworthy News on Artificial Intelligence\n",
      "\n",
      "Recent breakthroughs in AI research have paved the way for practical applications in solving real-world problems, such as autonomous drones for disaster relief and AI-powered chatbots for customer service. However, ethical considerations in AI development are crucial to ensure responsible building and deployment of AI systems.\n",
      "\n",
      "## Target Audience Analysis\n",
      "\n",
      "Professionals in the technology sector, business owners seeking AI solutions, students and researchers interested in AI, and the general audience curious about AI's societal impact form the target audience for AI-related content. Staying informed about AI's latest developments provides valuable insights into the opportunities and challenges posed by this transformative technology.\n",
      "\n",
      "## Conclusion\n",
      "\n",
      "Navigating the evolving AI landscape requires staying informed about trends, innovations, and ethical considerations in the field. Understanding AI's impact on industries and society enables us to harness its full potential while addressing risks and challenges. Subscribe to our newsletter for regular updates on the world of Artificial Intelligence and join us in shaping the future of technology.\n",
      "\n",
      "*Stay informed, stay ahead with Artificial Intelligence.*\n",
      "\n",
      "*SEO Keywords: Artificial Intelligence trends 2021, Top AI companies, AI news updates, Impact of AI on industries, Ethical AI development*\n",
      "\n",
      "Resources:\n",
      "- [Forbes article on AI trends](https://www.forbes.com/ai-trends)\n",
      "- [Gartner report on AI market](https://www.gartner.com/ai-market)\n",
      "- [TechCrunch news on AI innovations](https://www.techcrunch.com/ai-innovations)\n",
      "- [TED Talks on AI ethics](https://www.ted.com/ai-ethics)\n",
      "- Research papers on AI advancements\n",
      "\n",
      "Call to Action: Stay informed about the latest developments in Artificial Intelligence by subscribing to our newsletter for regular updates.\n",
      "\n",
      "\u001b[00m\n"
     ]
    }
   ],
   "source": [
    "result = crew.kickoff(inputs={\"topic\": \"Artificial Intelligence\"})"
   ]
  },
  {
   "cell_type": "markdown",
   "metadata": {},
   "source": [
    "- Display the results of your execution as markdown in the notebook."
   ]
  },
  {
   "cell_type": "code",
   "execution_count": 13,
   "metadata": {
    "height": 47
   },
   "outputs": [
    {
     "data": {
      "text/markdown": [
       "# The Rise of Artificial Intelligence: Exploring Trends and Innovations\n",
       "\n",
       "## Introduction\n",
       "\n",
       "Artificial Intelligence (AI) has rapidly evolved in recent years, reshaping various industries and redefining the way businesses function. AI involves machines simulating human intelligence processes, particularly within computer systems. The impact of AI is profound, as it can analyze data, learn from patterns, and make decisions with minimal human intervention. This technology's potential for the future is immense, and understanding its current trends is crucial for staying ahead in a rapidly changing landscape.\n",
       "\n",
       "## Latest Trends in Artificial Intelligence\n",
       "\n",
       "### Machine Learning Advancements\n",
       "Machine learning stands out as a key trend in AI, allowing computers to enhance their performance over time without explicit programming. From recommendation systems to autonomous vehicles, machine learning is revolutionizing various applications by learning from data.\n",
       "\n",
       "### Natural Language Processing Developments\n",
       "The development of Natural Language Processing (NLP) has significantly improved communication between humans and machines. NLP focuses on computers' ability to understand, interpret, and generate human language, leading to advancements in chatbots, language translation, and sentiment analysis.\n",
       "\n",
       "### Robotics and Automation Innovations\n",
       "Robotics and automation are pivotal components of AI, transforming industries like manufacturing, logistics, and healthcare. Collaborative robots, or cobots, are enhancing efficiency and productivity by working alongside humans in various work environments.\n",
       "\n",
       "### AI in Healthcare, Finance, and Other Sectors\n",
       "AI's impact extends to sectors like healthcare and finance, where it aids in disease diagnosis, personalized treatment plans, fraud detection, and risk assessment. The integration of AI in these industries holds promise for improving patient outcomes, streamlining processes, and enhancing decision-making.\n",
       "\n",
       "## Key Players in the AI Industry\n",
       "\n",
       "Leading companies in the AI sector, including Google, IBM, Amazon, Microsoft, Tesla, and Facebook, are driving innovation and shaping the future of technology. These industry giants are constantly pushing boundaries, from self-driving cars to virtual assistants, showcasing the vast potential of AI.\n",
       "\n",
       "## Noteworthy News on Artificial Intelligence\n",
       "\n",
       "Recent breakthroughs in AI research have paved the way for practical applications in solving real-world problems, such as autonomous drones for disaster relief and AI-powered chatbots for customer service. However, ethical considerations in AI development are crucial to ensure responsible building and deployment of AI systems.\n",
       "\n",
       "## Target Audience Analysis\n",
       "\n",
       "Professionals in the technology sector, business owners seeking AI solutions, students and researchers interested in AI, and the general audience curious about AI's societal impact form the target audience for AI-related content. Staying informed about AI's latest developments provides valuable insights into the opportunities and challenges posed by this transformative technology.\n",
       "\n",
       "## Conclusion\n",
       "\n",
       "Navigating the evolving AI landscape requires staying informed about trends, innovations, and ethical considerations in the field. Understanding AI's impact on industries and society enables us to harness its full potential while addressing risks and challenges. Subscribe to our newsletter for regular updates on the world of Artificial Intelligence and join us in shaping the future of technology.\n",
       "\n",
       "*Stay informed, stay ahead with Artificial Intelligence.*\n",
       "\n",
       "*SEO Keywords: Artificial Intelligence trends 2021, Top AI companies, AI news updates, Impact of AI on industries, Ethical AI development*\n",
       "\n",
       "Resources:\n",
       "- [Forbes article on AI trends](https://www.forbes.com/ai-trends)\n",
       "- [Gartner report on AI market](https://www.gartner.com/ai-market)\n",
       "- [TechCrunch news on AI innovations](https://www.techcrunch.com/ai-innovations)\n",
       "- [TED Talks on AI ethics](https://www.ted.com/ai-ethics)\n",
       "- Research papers on AI advancements\n",
       "\n",
       "Call to Action: Stay informed about the latest developments in Artificial Intelligence by subscribing to our newsletter for regular updates."
      ],
      "text/plain": [
       "<IPython.core.display.Markdown object>"
      ]
     },
     "execution_count": 13,
     "metadata": {},
     "output_type": "execute_result"
    }
   ],
   "source": [
    "from IPython.display import Markdown\n",
    "Markdown(result)"
   ]
  },
  {
   "cell_type": "markdown",
   "metadata": {},
   "source": [
    "## Try it Yourself\n",
    "\n",
    "- Pass in a topic of your choice and see what the agents come up with!"
   ]
  },
  {
   "cell_type": "code",
   "execution_count": null,
   "metadata": {
    "height": 47
   },
   "outputs": [],
   "source": [
    "topic = \"YOUR TOPIC HERE\"\n",
    "result = crew.kickoff(inputs={\"topic\": topic})"
   ]
  },
  {
   "cell_type": "code",
   "execution_count": null,
   "metadata": {
    "height": 30
   },
   "outputs": [],
   "source": [
    "Markdown(result)"
   ]
  },
  {
   "cell_type": "markdown",
   "metadata": {},
   "source": [
    "<a name='1'></a>\n",
    " ## Other Popular Models as LLM for your Agents"
   ]
  },
  {
   "cell_type": "markdown",
   "metadata": {},
   "source": [
    "#### Hugging Face (HuggingFaceHub endpoint)\n",
    "\n",
    "```Python\n",
    "from langchain_community.llms import HuggingFaceHub\n",
    "\n",
    "llm = HuggingFaceHub(\n",
    "    repo_id=\"HuggingFaceH4/zephyr-7b-beta\",\n",
    "    huggingfacehub_api_token=\"<HF_TOKEN_HERE>\",\n",
    "    task=\"text-generation\",\n",
    ")\n",
    "\n",
    "### you will pass \"llm\" to your agent function\n",
    "```"
   ]
  },
  {
   "cell_type": "markdown",
   "metadata": {},
   "source": [
    "#### Mistral API\n",
    "\n",
    "```Python\n",
    "OPENAI_API_KEY=your-mistral-api-key\n",
    "OPENAI_API_BASE=https://api.mistral.ai/v1\n",
    "OPENAI_MODEL_NAME=\"mistral-small\"\n",
    "```"
   ]
  },
  {
   "cell_type": "markdown",
   "metadata": {},
   "source": [
    "#### Cohere\n",
    "\n",
    "```Python\n",
    "from langchain_community.chat_models import ChatCohere\n",
    "# Initialize language model\n",
    "os.environ[\"COHERE_API_KEY\"] = \"your-cohere-api-key\"\n",
    "llm = ChatCohere()\n",
    "\n",
    "### you will pass \"llm\" to your agent function\n",
    "```"
   ]
  },
  {
   "cell_type": "markdown",
   "metadata": {},
   "source": [
    "### For using Llama locally with Ollama and more, checkout the crewAI documentation on [Connecting to any LLM](https://docs.crewai.com/how-to/LLM-Connections/)."
   ]
  },
  {
   "cell_type": "code",
   "execution_count": null,
   "metadata": {
    "height": 30
   },
   "outputs": [],
   "source": []
  },
  {
   "cell_type": "code",
   "execution_count": null,
   "metadata": {
    "height": 30
   },
   "outputs": [],
   "source": []
  },
  {
   "cell_type": "code",
   "execution_count": null,
   "metadata": {
    "height": 30
   },
   "outputs": [],
   "source": []
  }
 ],
 "metadata": {
  "colab": {
   "gpuType": "T4",
   "provenance": []
  },
  "kernelspec": {
   "display_name": "Python 3 (ipykernel)",
   "language": "python",
   "name": "python3"
  },
  "language_info": {
   "codemirror_mode": {
    "name": "ipython",
    "version": 3
   },
   "file_extension": ".py",
   "mimetype": "text/x-python",
   "name": "python",
   "nbconvert_exporter": "python",
   "pygments_lexer": "ipython3",
   "version": "3.11.9"
  }
 },
 "nbformat": 4,
 "nbformat_minor": 4
}
