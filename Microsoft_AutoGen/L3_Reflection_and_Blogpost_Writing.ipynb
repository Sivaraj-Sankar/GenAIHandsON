{
 "cells": [
  {
   "cell_type": "markdown",
   "id": "fc3024e2",
   "metadata": {},
   "source": [
    "# Lesson 3: Reflection and Blogpost Writing"
   ]
  },
  {
   "cell_type": "markdown",
   "id": "3b0cc42f",
   "metadata": {},
   "source": [
    "## Setup"
   ]
  },
  {
   "cell_type": "code",
   "execution_count": 1,
   "id": "96d39be0-eaf3-456d-8613-ba21099ed36b",
   "metadata": {
    "height": 30
   },
   "outputs": [],
   "source": [
    "llm_config = {\"model\": \"gpt-3.5-turbo\"}"
   ]
  },
  {
   "cell_type": "markdown",
   "id": "0969e6bb",
   "metadata": {},
   "source": [
    "## The task!"
   ]
  },
  {
   "cell_type": "code",
   "execution_count": 2,
   "id": "e8074032-3690-4de9-ad08-ea8323cb441b",
   "metadata": {
    "height": 115
   },
   "outputs": [],
   "source": [
    "task = '''\n",
    "        Write a concise but engaging blogpost about\n",
    "       DeepLearning.AI. Make sure the blogpost is\n",
    "       within 100 words.\n",
    "       '''\n"
   ]
  },
  {
   "cell_type": "markdown",
   "id": "1987f023",
   "metadata": {},
   "source": [
    "## Create a writer agent"
   ]
  },
  {
   "cell_type": "code",
   "execution_count": 3,
   "id": "fe0f0a47-a9fe-43a0-b7b1-79922e4c4ac8",
   "metadata": {
    "height": 198
   },
   "outputs": [],
   "source": [
    "import autogen\n",
    "\n",
    "writer = autogen.AssistantAgent(\n",
    "    name=\"Writer\",\n",
    "    system_message=\"You are a writer. You write engaging and concise \" \n",
    "        \"blogpost (with title) on given topics. You must polish your \"\n",
    "        \"writing based on the feedback you receive and give a refined \"\n",
    "        \"version. Only return your final work without additional comments.\",\n",
    "    llm_config=llm_config,\n",
    ")"
   ]
  },
  {
   "cell_type": "code",
   "execution_count": 4,
   "id": "7c7b4d8d-40f7-4a05-8958-25d20054de3a",
   "metadata": {
    "height": 45
   },
   "outputs": [],
   "source": [
    "reply = writer.generate_reply(messages=[{\"content\": task, \"role\": \"user\"}])"
   ]
  },
  {
   "cell_type": "code",
   "execution_count": 5,
   "id": "c501c97d-e338-4f36-a384-6ec45983cf77",
   "metadata": {
    "height": 30
   },
   "outputs": [
    {
     "name": "stdout",
     "output_type": "stream",
     "text": [
      "Title: Unveiling the Power of DeepLearning.AI\n",
      "\n",
      "Dive into the world of artificial intelligence with DeepLearning.AI, a leading online platform revolutionizing education in deep learning. Whether you're a novice or an expert, their courses cater to all levels, offering hands-on experience and expertise from industry professionals. With engaging content and interactive exercises, mastering complex algorithms has never been easier. Stay ahead in the ever-evolving tech industry and join the thousands who have already unlocked the potential of AI with DeepLearning.AI. Embrace the future, enhance your skills, and embark on a learning journey that will shape the world of tomorrow.\n"
     ]
    }
   ],
   "source": [
    "print(reply)"
   ]
  },
  {
   "cell_type": "markdown",
   "id": "49658114",
   "metadata": {},
   "source": [
    "## Adding reflection \n",
    "\n",
    "Create a critic agent to reflect on the work of the writer agent."
   ]
  },
  {
   "cell_type": "code",
   "execution_count": 6,
   "id": "c7fcd1c7-51ec-4915-8e97-bac03565c4c7",
   "metadata": {
    "height": 164
   },
   "outputs": [],
   "source": [
    "critic = autogen.AssistantAgent(\n",
    "    name=\"Critic\",\n",
    "    is_termination_msg=lambda x: x.get(\"content\", \"\").find(\"TERMINATE\") >= 0,\n",
    "    llm_config=llm_config,\n",
    "    system_message=\"You are a critic. You review the work of \"\n",
    "                \"the writer and provide constructive \"\n",
    "                \"feedback to help improve the quality of the content.\",\n",
    ")"
   ]
  },
  {
   "cell_type": "code",
   "execution_count": 7,
   "id": "899d5fdb-6081-470b-b287-8cf8b8142d0d",
   "metadata": {
    "height": 115
   },
   "outputs": [
    {
     "name": "stdout",
     "output_type": "stream",
     "text": [
      "\u001b[33mCritic\u001b[0m (to Writer):\n",
      "\n",
      "\n",
      "        Write a concise but engaging blogpost about\n",
      "       DeepLearning.AI. Make sure the blogpost is\n",
      "       within 100 words.\n",
      "       \n",
      "\n",
      "--------------------------------------------------------------------------------\n",
      "\u001b[33mWriter\u001b[0m (to Critic):\n",
      "\n",
      "Title: Unveiling the Power of DeepLearning.AI\n",
      "\n",
      "Dive into the world of artificial intelligence with DeepLearning.AI, a leading online platform revolutionizing education in deep learning. Whether you're a novice or an expert, their courses cater to all levels, offering hands-on experience and expertise from industry professionals. With engaging content and interactive exercises, mastering complex algorithms has never been easier. Stay ahead in the ever-evolving tech industry and join the thousands who have already unlocked the potential of AI with DeepLearning.AI. Embrace the future, enhance your skills, and embark on a learning journey that will shape the world of tomorrow.\n",
      "\n",
      "--------------------------------------------------------------------------------\n",
      "\u001b[33mCritic\u001b[0m (to Writer):\n",
      "\n",
      "This blogpost effectively captures the essence of DeepLearning.AI by highlighting its significance in the field of artificial intelligence education. The title is engaging and sets the tone for the content within the 100-word limit. The post effectively communicates the platform's benefits, target audience, and the opportunities it offers in a concise manner. To improve further, consider mentioning specific courses or success stories to provide concrete examples of the platform's impact. Additionally, including statistical data on enrollment or completion rates could add credibility to the post. Overall, a well-written and informative piece that can be enhanced with more specific details.\n",
      "\n",
      "--------------------------------------------------------------------------------\n",
      "\u001b[33mWriter\u001b[0m (to Critic):\n",
      "\n",
      "Title: Unleashing Potential with DeepLearning.AI Courses\n",
      "\n",
      "Discover the forefront of AI education at DeepLearning.AI. From beginners to experts, explore comprehensive courses curated by industry leaders. Navigate cutting-edge algorithms through interactive modules that refine your skills. Join a community propelling the future of technology. Gain firsthand insights and expertise to stay ahead in the dynamic tech landscape. With DeepLearning.AI, revolutionize your career and embrace the infinite possibilities of AI. Advance your knowledge, amplify your impact, and shape the world of AI today.\n",
      "\n",
      "--------------------------------------------------------------------------------\n"
     ]
    }
   ],
   "source": [
    "res = critic.initiate_chat(\n",
    "    recipient=writer,\n",
    "    message=task,\n",
    "    max_turns=2,\n",
    "    summary_method=\"last_msg\"\n",
    ")"
   ]
  },
  {
   "cell_type": "markdown",
   "id": "e7b76449",
   "metadata": {},
   "source": [
    "## Nested chat"
   ]
  },
  {
   "cell_type": "code",
   "execution_count": 8,
   "id": "401ecf92-63e9-40ff-aeed-1c404352e4ab",
   "metadata": {
    "height": 215
   },
   "outputs": [],
   "source": [
    "SEO_reviewer = autogen.AssistantAgent(\n",
    "    name=\"SEO Reviewer\",\n",
    "    llm_config=llm_config,\n",
    "    system_message=\"You are an SEO reviewer, known for \"\n",
    "        \"your ability to optimize content for search engines, \"\n",
    "        \"ensuring that it ranks well and attracts organic traffic. \" \n",
    "        \"Make sure your suggestion is concise (within 3 bullet points), \"\n",
    "        \"concrete and to the point. \"\n",
    "        \"Begin the review by stating your role.\",\n",
    ")\n"
   ]
  },
  {
   "cell_type": "code",
   "execution_count": 9,
   "id": "f85acb81-7ab9-4c84-b8bb-6fbae3dce848",
   "metadata": {
    "height": 198
   },
   "outputs": [],
   "source": [
    "legal_reviewer = autogen.AssistantAgent(\n",
    "    name=\"Legal Reviewer\",\n",
    "    llm_config=llm_config,\n",
    "    system_message=\"You are a legal reviewer, known for \"\n",
    "        \"your ability to ensure that content is legally compliant \"\n",
    "        \"and free from any potential legal issues. \"\n",
    "        \"Make sure your suggestion is concise (within 3 bullet points), \"\n",
    "        \"concrete and to the point. \"\n",
    "        \"Begin the review by stating your role.\",\n",
    ")"
   ]
  },
  {
   "cell_type": "code",
   "execution_count": 10,
   "id": "d46a177a-8088-4956-8d2b-3e916b8ca5e9",
   "metadata": {
    "height": 198
   },
   "outputs": [],
   "source": [
    "ethics_reviewer = autogen.AssistantAgent(\n",
    "    name=\"Ethics Reviewer\",\n",
    "    llm_config=llm_config,\n",
    "    system_message=\"You are an ethics reviewer, known for \"\n",
    "        \"your ability to ensure that content is ethically sound \"\n",
    "        \"and free from any potential ethical issues. \" \n",
    "        \"Make sure your suggestion is concise (within 3 bullet points), \"\n",
    "        \"concrete and to the point. \"\n",
    "        \"Begin the review by stating your role. \",\n",
    ")"
   ]
  },
  {
   "cell_type": "code",
   "execution_count": 11,
   "id": "a7b2ad6f-8ba6-436a-9459-14ffbe8a32d3",
   "metadata": {
    "height": 130
   },
   "outputs": [],
   "source": [
    "meta_reviewer = autogen.AssistantAgent(\n",
    "    name=\"Meta Reviewer\",\n",
    "    llm_config=llm_config,\n",
    "    system_message=\"You are a meta reviewer, you aggragate and review \"\n",
    "    \"the work of other reviewers and give a final suggestion on the content.\",\n",
    ")"
   ]
  },
  {
   "cell_type": "markdown",
   "id": "913beca1",
   "metadata": {},
   "source": [
    "## Orchestrate the nested chats to solve the task"
   ]
  },
  {
   "cell_type": "code",
   "execution_count": 12,
   "id": "a11a70c7-19ca-4e5a-ad3d-f2b481fb5915",
   "metadata": {
    "height": 555
   },
   "outputs": [],
   "source": [
    "def reflection_message(recipient, messages, sender, config):\n",
    "    return f'''Review the following content. \n",
    "            \\n\\n {recipient.chat_messages_for_summary(sender)[-1]['content']}'''\n",
    "\n",
    "review_chats = [\n",
    "    {\n",
    "     \"recipient\": SEO_reviewer, \n",
    "     \"message\": reflection_message, \n",
    "     \"summary_method\": \"reflection_with_llm\",\n",
    "     \"summary_args\": {\"summary_prompt\" : \n",
    "        \"Return review into as JSON object only:\"\n",
    "        \"{'Reviewer': '', 'Review': ''}. Here Reviewer should be your role\",},\n",
    "     \"max_turns\": 1},\n",
    "    {\n",
    "    \"recipient\": legal_reviewer, \"message\": reflection_message, \n",
    "     \"summary_method\": \"reflection_with_llm\",\n",
    "     \"summary_args\": {\"summary_prompt\" : \n",
    "        \"Return review into as JSON object only:\"\n",
    "        \"{'Reviewer': '', 'Review': ''}.\",},\n",
    "     \"max_turns\": 1},\n",
    "    {\"recipient\": ethics_reviewer, \"message\": reflection_message, \n",
    "     \"summary_method\": \"reflection_with_llm\",\n",
    "     \"summary_args\": {\"summary_prompt\" : \n",
    "        \"Return review into as JSON object only:\"\n",
    "        \"{'reviewer': '', 'review': ''}\",},\n",
    "     \"max_turns\": 1},\n",
    "     {\"recipient\": meta_reviewer, \n",
    "      \"message\": \"Aggregrate feedback from all reviewers and give final suggestions on the writing.\", \n",
    "     \"max_turns\": 1},\n",
    "]\n"
   ]
  },
  {
   "cell_type": "code",
   "execution_count": 13,
   "id": "b3a40b66-5061-460d-ad9d-c0dbcfbba2e9",
   "metadata": {
    "height": 81
   },
   "outputs": [],
   "source": [
    "critic.register_nested_chats(\n",
    "    review_chats,\n",
    "    trigger=writer,\n",
    ")"
   ]
  },
  {
   "cell_type": "markdown",
   "id": "43b8797d",
   "metadata": {},
   "source": [
    "**Note**: You might get a slightly different response than what's shown in the video. Feel free to try different task."
   ]
  },
  {
   "cell_type": "code",
   "execution_count": 14,
   "id": "3b8dcac3-1e72-43b7-9d5a-1be740f6efd5",
   "metadata": {
    "height": 115
   },
   "outputs": [
    {
     "name": "stdout",
     "output_type": "stream",
     "text": [
      "\u001b[33mCritic\u001b[0m (to Writer):\n",
      "\n",
      "\n",
      "        Write a concise but engaging blogpost about\n",
      "       DeepLearning.AI. Make sure the blogpost is\n",
      "       within 100 words.\n",
      "       \n",
      "\n",
      "--------------------------------------------------------------------------------\n",
      "\u001b[33mWriter\u001b[0m (to Critic):\n",
      "\n",
      "Title: Unveiling the Power of DeepLearning.AI\n",
      "\n",
      "Dive into the world of artificial intelligence with DeepLearning.AI, a leading online platform revolutionizing education in deep learning. Whether you're a novice or an expert, their courses cater to all levels, offering hands-on experience and expertise from industry professionals. With engaging content and interactive exercises, mastering complex algorithms has never been easier. Stay ahead in the ever-evolving tech industry and join the thousands who have already unlocked the potential of AI with DeepLearning.AI. Embrace the future, enhance your skills, and embark on a learning journey that will shape the world of tomorrow.\n",
      "\n",
      "--------------------------------------------------------------------------------\n",
      "\u001b[34m\n",
      "********************************************************************************\u001b[0m\n",
      "\u001b[34mStarting a new chat....\u001b[0m\n",
      "\u001b[34m\n",
      "********************************************************************************\u001b[0m\n",
      "\u001b[33mCritic\u001b[0m (to SEO Reviewer):\n",
      "\n",
      "Review the following content. \n",
      "            \n",
      "\n",
      " Title: Unveiling the Power of DeepLearning.AI\n",
      "\n",
      "Dive into the world of artificial intelligence with DeepLearning.AI, a leading online platform revolutionizing education in deep learning. Whether you're a novice or an expert, their courses cater to all levels, offering hands-on experience and expertise from industry professionals. With engaging content and interactive exercises, mastering complex algorithms has never been easier. Stay ahead in the ever-evolving tech industry and join the thousands who have already unlocked the potential of AI with DeepLearning.AI. Embrace the future, enhance your skills, and embark on a learning journey that will shape the world of tomorrow.\n",
      "\n",
      "--------------------------------------------------------------------------------\n",
      "\u001b[33mSEO Reviewer\u001b[0m (to Critic):\n",
      "\n",
      "As an SEO reviewer, here are my suggestions for optimizing the content:\n",
      "\n",
      "1. **Targeted Keywords**: Incorporate relevant keywords related to artificial intelligence, deep learning, online education, and tech industry trends to enhance visibility in search results.\n",
      "  \n",
      "2. **Meta Tags**: Ensure meta tags like title and description are concise, descriptive, and include key terms to improve search engine visibility and click-through rates.\n",
      "\n",
      "3. **Call to Action (CTA)**: Include a strong CTA encouraging users to engage with the content, such as \"Explore our courses at DeepLearning.AI today!\" to drive user interaction and conversions.\n",
      "\n",
      "--------------------------------------------------------------------------------\n",
      "\u001b[34m\n",
      "********************************************************************************\u001b[0m\n",
      "\u001b[34mStarting a new chat....\u001b[0m\n",
      "\u001b[34m\n",
      "********************************************************************************\u001b[0m\n",
      "\u001b[33mCritic\u001b[0m (to Legal Reviewer):\n",
      "\n",
      "Review the following content. \n",
      "            \n",
      "\n",
      " Title: Unveiling the Power of DeepLearning.AI\n",
      "\n",
      "Dive into the world of artificial intelligence with DeepLearning.AI, a leading online platform revolutionizing education in deep learning. Whether you're a novice or an expert, their courses cater to all levels, offering hands-on experience and expertise from industry professionals. With engaging content and interactive exercises, mastering complex algorithms has never been easier. Stay ahead in the ever-evolving tech industry and join the thousands who have already unlocked the potential of AI with DeepLearning.AI. Embrace the future, enhance your skills, and embark on a learning journey that will shape the world of tomorrow.\n",
      "Context: \n",
      "{'Reviewer': 'SEO Reviewer', 'Review': 'Overall, the content is engaging and informative, highlighting the benefits of DeepLearning.AI. Consider incorporating targeted keywords, optimizing meta tags, and including a strong call to action for improved search engine visibility and user engagement.'}\n",
      "\n",
      "--------------------------------------------------------------------------------\n",
      "\u001b[33mLegal Reviewer\u001b[0m (to Critic):\n",
      "\n",
      "As a Legal Reviewer:\n",
      "\n",
      "- Ensure that the claims made about DeepLearning.AI being a leading online platform revolutionizing education in deep learning are substantiated and verifiable.\n",
      "- Check for any potential trademark issues with the term \"DeepLearning.AI\" to ensure there are no infringements.\n",
      "- Review the disclaimer or terms of use to ensure that any promises or guarantees made about the benefits of the platform are accurate and legally sound.\n",
      "\n",
      "--------------------------------------------------------------------------------\n",
      "\u001b[34m\n",
      "********************************************************************************\u001b[0m\n",
      "\u001b[34mStarting a new chat....\u001b[0m\n",
      "\u001b[34m\n",
      "********************************************************************************\u001b[0m\n",
      "\u001b[33mCritic\u001b[0m (to Ethics Reviewer):\n",
      "\n",
      "Review the following content. \n",
      "            \n",
      "\n",
      " Title: Unveiling the Power of DeepLearning.AI\n",
      "\n",
      "Dive into the world of artificial intelligence with DeepLearning.AI, a leading online platform revolutionizing education in deep learning. Whether you're a novice or an expert, their courses cater to all levels, offering hands-on experience and expertise from industry professionals. With engaging content and interactive exercises, mastering complex algorithms has never been easier. Stay ahead in the ever-evolving tech industry and join the thousands who have already unlocked the potential of AI with DeepLearning.AI. Embrace the future, enhance your skills, and embark on a learning journey that will shape the world of tomorrow.\n",
      "Context: \n",
      "{'Reviewer': 'SEO Reviewer', 'Review': 'Overall, the content is engaging and informative, highlighting the benefits of DeepLearning.AI. Consider incorporating targeted keywords, optimizing meta tags, and including a strong call to action for improved search engine visibility and user engagement.'}\n",
      "{'Reviewer': 'SEO Reviewer', 'Review': 'Overall, the content is engaging and informative, highlighting the benefits of DeepLearning.AI. Consider incorporating targeted keywords, optimizing meta tags, and including a strong call to action for improved search engine visibility and user engagement.'}\n",
      "\n",
      "--------------------------------------------------------------------------------\n",
      "\u001b[33mEthics Reviewer\u001b[0m (to Critic):\n",
      "\n",
      "As an ethics reviewer, I recommend the following:\n",
      "\n",
      "- Ensure transparency by disclosing any affiliations or sponsorships with DeepLearning.AI to maintain trust with the audience.\n",
      "- Avoid making exaggerated claims about the guaranteed outcomes of the courses to prevent misleading potential learners.\n",
      "- Include a section addressing the importance of ethical considerations in AI development and usage to promote responsible learning and application of AI technologies.\n",
      "\n",
      "--------------------------------------------------------------------------------\n",
      "\u001b[34m\n",
      "********************************************************************************\u001b[0m\n",
      "\u001b[34mStarting a new chat....\u001b[0m\n",
      "\u001b[34m\n",
      "********************************************************************************\u001b[0m\n",
      "\u001b[33mCritic\u001b[0m (to Meta Reviewer):\n",
      "\n",
      "Aggregrate feedback from all reviewers and give final suggestions on the writing.\n",
      "Context: \n",
      "{'Reviewer': 'SEO Reviewer', 'Review': 'Overall, the content is engaging and informative, highlighting the benefits of DeepLearning.AI. Consider incorporating targeted keywords, optimizing meta tags, and including a strong call to action for improved search engine visibility and user engagement.'}\n",
      "{'Reviewer': 'SEO Reviewer', 'Review': 'Overall, the content is engaging and informative, highlighting the benefits of DeepLearning.AI. Consider incorporating targeted keywords, optimizing meta tags, and including a strong call to action for improved search engine visibility and user engagement.'}\n",
      "{\"reviewer\": \"SEO Reviewer\", \"review\": \"Overall, the content is engaging and informative, highlighting the benefits of DeepLearning.AI. Consider incorporating targeted keywords, optimizing meta tags, and including a strong call to action for improved search engine visibility and user engagement.\"}\n"
     ]
    },
    {
     "name": "stdout",
     "output_type": "stream",
     "text": [
      "\n",
      "--------------------------------------------------------------------------------\n",
      "\u001b[33mMeta Reviewer\u001b[0m (to Critic):\n",
      "\n",
      "Aggregating the feedback from all reviewers, it's clear that the content is engaging and informative, effectively highlighting the benefits of DeepLearning.AI. The consistent suggestion across all reviews is to consider incorporating targeted keywords, optimizing meta tags, and including a strong call to action to enhance search engine visibility and user engagement.\n",
      "\n",
      "Final Suggestion:\n",
      "Based on the feedback provided, I recommend implementing the suggested SEO strategies to improve the content's visibility and appeal to the target audience. By incorporating relevant keywords, optimizing meta tags, and including a clear call to action, the content can further enhance its impact and reach. Overall, the writing is commendable, and with these SEO enhancements, it can achieve even better results in terms of visibility and engagement.\n",
      "\n",
      "--------------------------------------------------------------------------------\n",
      "\u001b[33mCritic\u001b[0m (to Writer):\n",
      "\n",
      "Aggregating the feedback from all reviewers, it's clear that the content is engaging and informative, effectively highlighting the benefits of DeepLearning.AI. The consistent suggestion across all reviews is to consider incorporating targeted keywords, optimizing meta tags, and including a strong call to action to enhance search engine visibility and user engagement.\n",
      "\n",
      "Final Suggestion:\n",
      "Based on the feedback provided, I recommend implementing the suggested SEO strategies to improve the content's visibility and appeal to the target audience. By incorporating relevant keywords, optimizing meta tags, and including a clear call to action, the content can further enhance its impact and reach. Overall, the writing is commendable, and with these SEO enhancements, it can achieve even better results in terms of visibility and engagement.\n",
      "\n",
      "--------------------------------------------------------------------------------\n",
      "\u001b[33mWriter\u001b[0m (to Critic):\n",
      "\n",
      "Title: Unveiling the Power of DeepLearning.AI\n",
      "\n",
      "Dive into the world of artificial intelligence with DeepLearning.AI, a leading online platform transforming education in deep learning. Whether you're starting or seasoned, their courses cater to all levels, offering hands-on experience and insights from industry pros. Master complex algorithms with engaging content and interactive exercises. Stay ahead in tech and join thousands mastering AI with DeepLearning.AI. Embrace the future, enhance your skills, and start a learning journey shaping tomorrow's world. Don't miss out—unlock the potential of AI today.\n",
      "\n",
      "--------------------------------------------------------------------------------\n"
     ]
    }
   ],
   "source": [
    "res = critic.initiate_chat(\n",
    "    recipient=writer,\n",
    "    message=task,\n",
    "    max_turns=2,\n",
    "    summary_method=\"last_msg\"\n",
    ")"
   ]
  },
  {
   "cell_type": "markdown",
   "id": "c5c833b0",
   "metadata": {},
   "source": [
    "## Get the summary"
   ]
  },
  {
   "cell_type": "code",
   "execution_count": 15,
   "id": "68ef82ed-f102-4964-b7be-60e2f258a39b",
   "metadata": {
    "height": 30
   },
   "outputs": [
    {
     "name": "stdout",
     "output_type": "stream",
     "text": [
      "Title: Unveiling the Power of DeepLearning.AI\n",
      "\n",
      "Dive into the world of artificial intelligence with DeepLearning.AI, a leading online platform transforming education in deep learning. Whether you're starting or seasoned, their courses cater to all levels, offering hands-on experience and insights from industry pros. Master complex algorithms with engaging content and interactive exercises. Stay ahead in tech and join thousands mastering AI with DeepLearning.AI. Embrace the future, enhance your skills, and start a learning journey shaping tomorrow's world. Don't miss out—unlock the potential of AI today.\n"
     ]
    }
   ],
   "source": [
    "print(res.summary)"
   ]
  }
 ],
 "metadata": {
  "kernelspec": {
   "display_name": "Python 3 (ipykernel)",
   "language": "python",
   "name": "python3"
  },
  "language_info": {
   "codemirror_mode": {
    "name": "ipython",
    "version": 3
   },
   "file_extension": ".py",
   "mimetype": "text/x-python",
   "name": "python",
   "nbconvert_exporter": "python",
   "pygments_lexer": "ipython3",
   "version": "3.11.9"
  }
 },
 "nbformat": 4,
 "nbformat_minor": 5
}
